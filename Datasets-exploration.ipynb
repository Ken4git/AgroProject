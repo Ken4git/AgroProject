{
 "cells": [
  {
   "cell_type": "markdown",
   "id": "311c80bd-acc0-4986-96d0-a07458bcd0ad",
   "metadata": {},
   "source": [
    "# Quick check of agro datasets exploitability for LeWagon MLProject\n",
    "\n",
    "- availability of features data: parcels, type of soils, type of crop, weather, sequencial etc\n",
    "- availability of target data: production (yearly)\n",
    "- quality of data: nan, length of time series"
   ]
  },
  {
   "cell_type": "markdown",
   "id": "1d0ffda8-b31c-4c99-8a98-c7c724c774cf",
   "metadata": {},
   "source": [
    "**TODO**\n",
    "\n",
    "- list datasets\n",
    "- links between datasets\n",
    "- size of datasets\n",
    "- other datasets?\n",
    "- objectives"
   ]
  },
  {
   "cell_type": "markdown",
   "id": "76426d8f-2e2c-499d-9778-c6b51f8e09f7",
   "metadata": {},
   "source": [
    "## Objectives\n",
    "\n",
    "- predict annual crop production per year and per region/parcel\n",
    "- compare predicted annual production to annual crop consumption per region/parcel\n",
    "- forecast under production and over production\n",
    "- infer transport requirement for satisfying demand\n",
    "- update crop production forecast with weather data\n",
    "- update crop production with satellite images\n",
    "- importations vs exportations\n",
    "\n",
    "## Possible extensions\n",
    "\n",
    "- get market data, market forecast to compute expectable value"
   ]
  },
  {
   "cell_type": "markdown",
   "id": "b9c8d77b-42f6-4ee0-a998-c0f132b9ccfc",
   "metadata": {},
   "source": [
    "<https://agreste.agriculture.gouv.fr/agreste-web/>"
   ]
  },
  {
   "cell_type": "code",
   "execution_count": null,
   "id": "156347be-a9e0-4ebe-bf56-28441482a4dd",
   "metadata": {},
   "outputs": [],
   "source": [
    "# ML libs\n",
    "import pandas as pd\n",
    "import numpy as np\n",
    "# Utils\n",
    "import os\n",
    "\n",
    "# Graphic\n",
    "import matplotlib.pyplot as plt\n",
    "\n",
    "# \n",
    "datasets_dir = \"/home/ken/Datasets/Agriculture\""
   ]
  },
  {
   "cell_type": "code",
   "execution_count": null,
   "id": "59c40018-9b93-4c49-a4d5-4b2436fc1310",
   "metadata": {
    "editable": true,
    "slideshow": {
     "slide_type": ""
    },
    "tags": []
   },
   "outputs": [],
   "source": [
    "file_name = \"cd2023-19_ResultatsDéfinifs-FranceEntiere2021-2022_maj22nov2023.xlsx\"\n",
    "file_path = os.path.join(datasets_dir,file_name)\n",
    "data = pd.read_excel(file_path, sheet_name=None)"
   ]
  },
  {
   "cell_type": "code",
   "execution_count": null,
   "id": "27e96294-1631-4c32-a569-e43550df47a6",
   "metadata": {},
   "outputs": [],
   "source": [
    "def format_ssa_sommaire_df(ssa_excel_dict):\n",
    "    ssa_excel_dict['Sommaire']  = ssa_excel_dict['Sommaire'].dropna(how=\"all\").dropna(axis=1)\n",
    "    ssa_excel_dict['Sommaire'].rename(columns=dict(zip(ssa_excel_dict['Sommaire'].columns, ['Tableaux', 'Onglets'])), inplace=True)\n",
    "    ssa_excel_dict['Sommaire']['Onglets'] = ssa_excel_dict['Sommaire']['Onglets'].str.strip('#')\n",
    "    ssa_excel_dict['Sommaire'].drop(2, inplace=True)\n",
    "    ssa_excel_dict['Sommaire'].set_index(\"Tableaux\", inplace=True)"
   ]
  },
  {
   "cell_type": "code",
   "execution_count": null,
   "id": "48e3e8cc-983f-414c-90ca-ffafbab53bec",
   "metadata": {
    "editable": true,
    "slideshow": {
     "slide_type": ""
    },
    "tags": []
   },
   "outputs": [],
   "source": [
    "ssa2023_dict = data.copy()\n",
    "format_ssa_sommaire_df(ssa2023_dict)"
   ]
  },
  {
   "cell_type": "code",
   "execution_count": null,
   "id": "e3519231-c66c-4798-bbd1-d58a03ee5c7e",
   "metadata": {},
   "outputs": [],
   "source": [
    "COP = ssa2023_dict[ssa2023_dict['Sommaire'].iloc[0]['Onglets']]\n",
    "COP"
   ]
  },
  {
   "cell_type": "code",
   "execution_count": null,
   "id": "f4127d71-aa3a-499e-bb25-7a9bfa49a482",
   "metadata": {},
   "outputs": [],
   "source": [
    "len(COP)"
   ]
  },
  {
   "cell_type": "code",
   "execution_count": null,
   "id": "7066d2db-d1c7-415b-96e2-694e8d0c1c6d",
   "metadata": {},
   "outputs": [],
   "source": [
    "file_name = \"SAA_2010-2023_provisoires_donnees_regionales.xlsx\"\n",
    "file_path = os.path.join(datasets_dir, file_name)\n",
    "SAA_regionales = pd.read_excel(file_path, sheet_name=None)"
   ]
  },
  {
   "cell_type": "code",
   "execution_count": null,
   "id": "d6a9aee0-f403-4856-95bc-b033ea87a4d7",
   "metadata": {},
   "outputs": [],
   "source": [
    "SAA_regionales['COP']"
   ]
  },
  {
   "cell_type": "code",
   "execution_count": null,
   "id": "d23e45c6-8bd9-4971-b9c7-60b871faf2d6",
   "metadata": {},
   "outputs": [],
   "source": [
    "file_name = \"SAA_2010-2023_provisoires_donnees_departementales.xlsx\"\n",
    "file_path = os.path.join(datasets_dir, file_name)\n",
    "SAA_departementales = pd.read_excel(file_path, sheet_name=None)"
   ]
  },
  {
   "cell_type": "code",
   "execution_count": null,
   "id": "7634d8fe-893a-4aa8-b9f3-6b03364f934b",
   "metadata": {},
   "outputs": [],
   "source": [
    "SAA_departementales.keys()"
   ]
  },
  {
   "cell_type": "code",
   "execution_count": null,
   "id": "846a7191-a619-48fb-9bbf-57e15817e098",
   "metadata": {},
   "outputs": [],
   "source": [
    "SAA_departementales['COP'].drop([0,1,2,3]).describe()"
   ]
  },
  {
   "cell_type": "code",
   "execution_count": null,
   "id": "3e2466a6-41b6-4ae6-9cef-f8c342def1d8",
   "metadata": {},
   "outputs": [],
   "source": [
    "dir_name = \"RPG/Projet_carto_RPG_2\"\n",
    "dir_path = os.path.join(datasets_dir, dir_name)\n",
    "files_list = os.listdir(dir_path)\n",
    "files_list"
   ]
  },
  {
   "cell_type": "code",
   "execution_count": null,
   "id": "1ad12d23-f921-4a9e-ac96-89ad61db5e7d",
   "metadata": {},
   "outputs": [],
   "source": [
    "import xml.etree.ElementTree as ET"
   ]
  },
  {
   "cell_type": "code",
   "execution_count": null,
   "id": "dcb0b511-871d-4a95-8462-497f3e82f19e",
   "metadata": {},
   "outputs": [],
   "source": [
    "xml_file = os.path.join(dir_path, \"Projet_carto_RPG_2-1_FXX.qgs\")\n",
    "tree = ET.parse(xml_file)\n"
   ]
  },
  {
   "cell_type": "code",
   "execution_count": null,
   "id": "c4600812-a50a-4b47-a4a2-c6dcddc78b6c",
   "metadata": {},
   "outputs": [],
   "source": [
    "root = tree.getroot()"
   ]
  },
  {
   "cell_type": "code",
   "execution_count": null,
   "id": "6131d0a2-2f38-4761-b2ad-cc8424687a51",
   "metadata": {},
   "outputs": [],
   "source": [
    "from bs4 import BeautifulSoup\n",
    "\n",
    "with open(xml_file) as fp:\n",
    "    soup = BeautifulSoup(fp,'lxml')"
   ]
  },
  {
   "cell_type": "code",
   "execution_count": null,
   "id": "a9ebf846-2836-4b35-8685-000d722d6f3d",
   "metadata": {
    "jupyter": {
     "source_hidden": true
    }
   },
   "outputs": [],
   "source": [
    "soup.find_all('field')"
   ]
  },
  {
   "cell_type": "markdown",
   "id": "a9f9f1cb-519b-497b-9ae5-f267141e04ec",
   "metadata": {},
   "source": [
    "## Pays basque sample dataset of RPG in json format"
   ]
  },
  {
   "cell_type": "code",
   "execution_count": null,
   "id": "2b5dcaa4-b904-4bcb-b0fd-501d3e12bf41",
   "metadata": {},
   "outputs": [],
   "source": [
    "json_name = \"RPG/rpg-2020-registre-parcellaire-graphique.json\"\n",
    "json_path = os.path.join(datasets_dir, json_name)\n",
    "import json\n",
    "with open(json_path, \"r\") as file:\n",
    "    js = json.load(file)"
   ]
  },
  {
   "cell_type": "code",
   "execution_count": null,
   "id": "afd2c98d-1f8b-4f45-bc31-788f92913de1",
   "metadata": {},
   "outputs": [],
   "source": [
    "js_small = js[:100]\n",
    "js_small"
   ]
  },
  {
   "cell_type": "code",
   "execution_count": null,
   "id": "f6a78620-fe0d-4b02-b2e1-4c0c69d30ab3",
   "metadata": {},
   "outputs": [],
   "source": [
    "\n",
    "fig, ax = plt.subplots(figsize=(14,14))\n",
    "#plt.xlim(-5.15,9.57)\n",
    "#plt.ylim(41.32,51.10)\n",
    "for i, parcel in enumerate(js):\n",
    "    errors={}\n",
    "    try:\n",
    "        polygons = parcel['geo_shape']['geometry']['coordinates']\n",
    "        #print(f\"index = {i}\")\n",
    "        for polygon in polygons:\n",
    "            ax.fill(np.array(polygon)[:,0], np.array(polygon)[:,1], label=parcel['code_cultu'])\n",
    "    except TypeError as e:\n",
    "        errors[i]=e\n",
    "print(errors)\n",
    "    #ax.plot(np.array(polygon)[:,:,0][0], np.array(polygon)[:,:,1][0], linewidth=3, color=\"w\")"
   ]
  },
  {
   "cell_type": "code",
   "execution_count": null,
   "id": "4208101c-dead-435c-81c9-e9ce21832e6a",
   "metadata": {},
   "outputs": [],
   "source": [
    "js_small[48]"
   ]
  },
  {
   "cell_type": "code",
   "execution_count": null,
   "id": "ad7fba3f-7f8f-4749-a521-6ab19eaebe4a",
   "metadata": {},
   "outputs": [],
   "source": [
    "polygon = js_small[0]['geo_shape']['geometry']['coordinates'][0]\n",
    "plt.fill(np.array(polygon)[:,0], np.array(polygon)[:,1])\n",
    "#plt.plot(np.array(polygon)[:,:,0][0], np.array(polygon)[:,:,1][0], linewidth=3, color=\"w\")"
   ]
  },
  {
   "cell_type": "code",
   "execution_count": null,
   "id": "7c4ab1ba-4ba8-4b43-8c02-72e26bd2370c",
   "metadata": {},
   "outputs": [],
   "source": [
    "np.array(polygon)[:,0]"
   ]
  },
  {
   "cell_type": "code",
   "execution_count": null,
   "id": "f6b1f73d-88dd-4fe6-a562-10ab34763543",
   "metadata": {},
   "outputs": [],
   "source": [
    "np.array(js[:]['code_cultu']).nunique()"
   ]
  },
  {
   "cell_type": "code",
   "execution_count": null,
   "id": "2e803714-fc77-427d-9450-a260394851a1",
   "metadata": {},
   "outputs": [],
   "source": [
    "codes_cultu = set([parcel['code_cultu'] for parcel in js])"
   ]
  },
  {
   "cell_type": "code",
   "execution_count": null,
   "id": "54cb9c78-031b-4826-a3dd-9f214de0acad",
   "metadata": {},
   "outputs": [],
   "source": [
    "len(codes_cultu)"
   ]
  },
  {
   "cell_type": "code",
   "execution_count": null,
   "id": "72c6a730-8bfe-4184-a09f-74b10da1dc79",
   "metadata": {},
   "outputs": [],
   "source": []
  }
 ],
 "metadata": {
  "kernelspec": {
   "display_name": "Python 3 (ipykernel)",
   "language": "python",
   "name": "python3"
  },
  "language_info": {
   "codemirror_mode": {
    "name": "ipython",
    "version": 3
   },
   "file_extension": ".py",
   "mimetype": "text/x-python",
   "name": "python",
   "nbconvert_exporter": "python",
   "pygments_lexer": "ipython3",
   "version": "3.12.3"
  }
 },
 "nbformat": 4,
 "nbformat_minor": 5
}
