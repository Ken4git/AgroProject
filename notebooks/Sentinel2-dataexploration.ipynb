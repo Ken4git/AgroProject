{
 "cells": [
  {
   "cell_type": "markdown",
   "id": "5af68989-36b0-460f-998f-4e8662e178dd",
   "metadata": {},
   "source": [
    "# Accessing satellite views "
   ]
  },
  {
   "cell_type": "code",
   "execution_count": null,
   "id": "bb0d07db-05b6-4a21-ab6a-e51e792e2c4d",
   "metadata": {},
   "outputs": [],
   "source": [
    "# ML libs\n",
    "import pandas as pd\n",
    "import numpy as np\n",
    "\n",
    "# File manipulation\n",
    "import os\n",
    "from urllib.request import urlopen\n",
    "import json\n",
    "from bs4 import BeautifulSoup\n",
    "import xml.etree.ElementTree as ET\n",
    "\n",
    "# Graphic\n",
    "import matplotlib.pyplot as plt\n",
    "import plotly.express as px\n",
    "\n",
    "# Environment variables\n",
    "datasets_dir = os.environ.get('DATA_DIR_LOCAL')"
   ]
  },
  {
   "cell_type": "code",
   "execution_count": null,
   "id": "b8666c88-3762-4219-947b-d192c79ce52c",
   "metadata": {},
   "outputs": [],
   "source": [
    "one_view_dir = \"RPG/S2A_MSIL2A_20240412T105621_N0510_R094_T30TXP_20240412T165247.SAFE\"\n",
    "one_view_path = os.path.join(datasets_dir,one_view_dir)"
   ]
  },
  {
   "cell_type": "markdown",
   "id": "c84e8d5d-2b3f-4bf8-94ea-15befdb69a8f",
   "metadata": {},
   "source": [
    "# Accessing the bounding-box info of the satellite image"
   ]
  },
  {
   "cell_type": "code",
   "execution_count": null,
   "id": "137ec7fb-3f56-4b12-900b-21043dcca304",
   "metadata": {},
   "outputs": [],
   "source": [
    "one_view_path = os.path.join(one_view_path,os.listdir(one_view_path)[0])"
   ]
  },
  {
   "cell_type": "code",
   "execution_count": null,
   "id": "08a3c4dc-411d-4ab5-ab97-4359f438a0af",
   "metadata": {},
   "outputs": [],
   "source": [
    "os.listdir(one_view_path)"
   ]
  },
  {
   "cell_type": "code",
   "execution_count": null,
   "id": "76268f07-15a9-4747-a768-e3e18f7386b2",
   "metadata": {},
   "outputs": [],
   "source": [
    "inspire_file = os.path.join(one_view_path, 'INSPIRE.xml')\n",
    "with open(inspire_file) as fp:\n",
    "    soup = BeautifulSoup(fp,'xml')"
   ]
  },
  {
   "cell_type": "code",
   "execution_count": null,
   "id": "6aeb3363-42b7-48ea-8359-afe1f1394e36",
   "metadata": {},
   "outputs": [],
   "source": [
    "soup.find('abstract').text.split()"
   ]
  },
  {
   "cell_type": "code",
   "execution_count": null,
   "id": "844ac201-d5f1-4df8-bf6a-421b4154e5cf",
   "metadata": {},
   "outputs": [],
   "source": [
    "MTD_MSIL2A_file = os.path.join(one_view_path, 'MTD_MSIL2A.xml')\n",
    "with open(MTD_MSIL2A_file) as fp:\n",
    "    MTD_MSIL2A_soup = BeautifulSoup(fp,'xml')"
   ]
  },
  {
   "cell_type": "code",
   "execution_count": null,
   "id": "ba0eefbd-356d-471c-93e5-ad140a5bfdd9",
   "metadata": {
    "scrolled": true
   },
   "outputs": [],
   "source": [
    "MTD_MSIL2A_coord_list = MTD_MSIL2A_soup.find('EXT_POS_LIST').text.split()"
   ]
  },
  {
   "cell_type": "markdown",
   "id": "f3cf0366-2a45-472d-bc80-94b76937b22e",
   "metadata": {},
   "source": [
    "## Transform bouding-box info into geoshape data\n",
    "<details><summary>\n",
    "dictionary example\n",
    "</summary>\n",
    "```\n",
    "{'type': 'FeatureCollection',\n",
    " 'features': [{\n",
    "    'type': 'Feature',\n",
    "    'properties': {'GEO_ID': '0500000US01001',\n",
    "        'STATE': '01',\n",
    "        'COUNTY': '001',\n",
    "        'NAME': 'Autauga',\n",
    "        'LSAD': 'County',\n",
    "        'CENSUSAREA': 594.436},\n",
    "    'geometry': {\n",
    "        'type': 'Polygon',\n",
    "        'coordinates': [[[-86.496774, 32.344437],\n",
    "         ...,\n",
    "          [-86.496774, 32.344437]]]},\n",
    "    'id': '01001'},\n",
    "  {'type': 'Feature',\n",
    "   'properties': {'GEO_ID': '0500000US01009',\n",
    "        ...,\n",
    "        'CENSUSAREA': 644.776},\n",
    "   'geometry': {'type': 'Polygon',\n",
    "        'coordinates': [[[-86.577799, 33.765316],\n",
    "          ...,\n",
    "          [-86.577799, 33.765316]]]},\n",
    "   'id': '01009'},\n",
    "    ...\n",
    "}\n",
    "```\n",
    "</details>"
   ]
  },
  {
   "cell_type": "code",
   "execution_count": null,
   "id": "8086fe06-abcb-4ae7-a7c0-f56d2b028fc9",
   "metadata": {},
   "outputs": [],
   "source": [
    "def list2polygoncoordinates(coord_list):\n",
    "    return np.reshape(coord_list, (1, int(len(coord_list)/2),2))"
   ]
  },
  {
   "cell_type": "code",
   "execution_count": null,
   "id": "55676974-f1a9-4a7e-b701-0bd260e896eb",
   "metadata": {},
   "outputs": [],
   "source": [
    "MTD_MSIL2A_coordinates = list2polygoncoordinates(MTD_MSIL2A_coord_list)\n",
    "tmp_lat = MTD_MSIL2A_coordinates[:,:,0].copy()\n",
    "MTD_MSIL2A_coordinates[:,:,0] =  MTD_MSIL2A_coordinates[:,:,1]\n",
    "MTD_MSIL2A_coordinates[:,:,1] = tmp_lat\n",
    "MTD_MSIL2A_coordinates"
   ]
  },
  {
   "cell_type": "code",
   "execution_count": null,
   "id": "af3ceaae-a3e2-4e8b-b081-270739391ba1",
   "metadata": {},
   "outputs": [],
   "source": [
    "img_center = MTD_MSIL2A_coordinates.astype(float).mean(axis=1)[0]"
   ]
  },
  {
   "cell_type": "code",
   "execution_count": null,
   "id": "9ed5220f-9b7c-4cb7-bdba-11e075a5ac2e",
   "metadata": {},
   "outputs": [],
   "source": [
    "geo_dict={'type': 'FeatureCollection',\n",
    "          'features': [{\n",
    "    'type': 'Feature',\n",
    "    'properties': {},\n",
    "    'geometry': {\n",
    "        'type': 'Polygon',\n",
    "        'coordinates': MTD_MSIL2A_coordinates},\n",
    "    'id': '01'}]}"
   ]
  },
  {
   "cell_type": "markdown",
   "id": "bdbe5a26-fa11-42b3-adbf-8292ff083a63",
   "metadata": {},
   "source": [
    "## Plotting on a map\n",
    "A dataframe is needed to list the features to plot"
   ]
  },
  {
   "cell_type": "code",
   "execution_count": null,
   "id": "c31cc2f0-d42d-444b-9e71-61495c97ba32",
   "metadata": {},
   "outputs": [],
   "source": [
    "df = pd.DataFrame({'id':['01']})"
   ]
  },
  {
   "cell_type": "code",
   "execution_count": null,
   "id": "c10a1709-1ed8-49f7-8a3e-fb9739768a0b",
   "metadata": {},
   "outputs": [],
   "source": [
    "px.choropleth_mapbox(df, geojson=geo_dict, locations='id', \n",
    "                     mapbox_style=\"carto-positron\",\n",
    "                     zoom=6, \n",
    "                     opacity=0.2,\n",
    "                     center = {\"lon\": img_center[0], \"lat\": img_center[1]}\n",
    "                           )"
   ]
  },
  {
   "cell_type": "markdown",
   "id": "ff2788d4-a681-4cce-b18f-a557b5c948e2",
   "metadata": {},
   "source": [
    "## S3Path"
   ]
  },
  {
   "cell_type": "code",
   "execution_count": null,
   "id": "cc986ad5-a9c8-436f-9cd6-ff80750e6e9b",
   "metadata": {},
   "outputs": [],
   "source": [
    "from s3path import S3Path"
   ]
  },
  {
   "cell_type": "code",
   "execution_count": null,
   "id": "ab253eb0-c440-4d0c-aed5-5decf93e3d58",
   "metadata": {},
   "outputs": [],
   "source": [
    "bucket_path = S3Path(\"/eodata/Sentinel-2/MSI/L1C/2024/05/09/S2A_MSIL1C_20240509T105031_N0510_R051_T30TYN_20240509T125022.SAFE\")"
   ]
  },
  {
   "cell_type": "code",
   "execution_count": null,
   "id": "3d42d8a9-54d6-4588-aa58-f8c0af08874b",
   "metadata": {},
   "outputs": [],
   "source": [
    "bucket_path.exists()"
   ]
  },
  {
   "cell_type": "code",
   "execution_count": null,
   "id": "c5c8006d-097a-4cd3-8eb3-424b6ad74097",
   "metadata": {},
   "outputs": [],
   "source": []
  }
 ],
 "metadata": {
  "kernelspec": {
   "display_name": "Python 3 (ipykernel)",
   "language": "python",
   "name": "python3"
  },
  "language_info": {
   "codemirror_mode": {
    "name": "ipython",
    "version": 3
   },
   "file_extension": ".py",
   "mimetype": "text/x-python",
   "name": "python",
   "nbconvert_exporter": "python",
   "pygments_lexer": "ipython3",
   "version": "3.12.3"
  }
 },
 "nbformat": 4,
 "nbformat_minor": 5
}
