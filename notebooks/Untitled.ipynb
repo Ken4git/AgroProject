{
 "cells": [
  {
   "cell_type": "code",
   "execution_count": null,
   "id": "bf415f88-4009-46d0-899e-2a9f5f65cff4",
   "metadata": {},
   "outputs": [],
   "source": [
    "import geopandas as gpd\n",
    "import shapely\n",
    "gdf = gpd.read_file(\"/home/ken/Datasets/Agriculture/Landes/eopatches/eopatch_0/bbox.geojson\")\n",
    "\n",
    "gdf['geometry'][0].contains"
   ]
  },
  {
   "cell_type": "code",
   "execution_count": 5,
   "id": "a68b0085-d683-439e-8793-380d32bd0728",
   "metadata": {},
   "outputs": [
    {
     "ename": "GEOSException",
     "evalue": "ParseException: Error parsing JSON: '[json.exception.parse_error.101] parse error at line 1, column 1: syntax error while parsing value - invalid literal; last read: '/''",
     "output_type": "error",
     "traceback": [
      "\u001b[0;31m---------------------------------------------------------------------------\u001b[0m",
      "\u001b[0;31mGEOSException\u001b[0m                             Traceback (most recent call last)",
      "Cell \u001b[0;32mIn[5], line 1\u001b[0m\n\u001b[0;32m----> 1\u001b[0m shape \u001b[38;5;241m=\u001b[39m \u001b[43mshapely\u001b[49m\u001b[38;5;241;43m.\u001b[39;49m\u001b[43mfrom_geojson\u001b[49m\u001b[43m(\u001b[49m\u001b[38;5;124;43m\"\u001b[39;49m\u001b[38;5;124;43m/home/ken/Datasets/Agriculture/Landes/eopatches/eopatch_0/bbox.geojson\u001b[39;49m\u001b[38;5;124;43m\"\u001b[39;49m\u001b[43m)\u001b[49m\n\u001b[1;32m      2\u001b[0m shape\n",
      "File \u001b[0;32m~/.pyenv/versions/3.12.3/envs/satellite-crops/lib/python3.12/site-packages/shapely/io.py:372\u001b[0m, in \u001b[0;36mfrom_geojson\u001b[0;34m(geometry, on_invalid, **kwargs)\u001b[0m\n\u001b[1;32m    367\u001b[0m \u001b[38;5;66;03m# ensure the input has object dtype, to avoid numpy inferring it as a\u001b[39;00m\n\u001b[1;32m    368\u001b[0m \u001b[38;5;66;03m# fixed-length string dtype (which removes trailing null bytes upon access\u001b[39;00m\n\u001b[1;32m    369\u001b[0m \u001b[38;5;66;03m# of array elements)\u001b[39;00m\n\u001b[1;32m    370\u001b[0m geometry \u001b[38;5;241m=\u001b[39m np\u001b[38;5;241m.\u001b[39masarray(geometry, dtype\u001b[38;5;241m=\u001b[39m\u001b[38;5;28mobject\u001b[39m)\n\u001b[0;32m--> 372\u001b[0m \u001b[38;5;28;01mreturn\u001b[39;00m \u001b[43mlib\u001b[49m\u001b[38;5;241;43m.\u001b[39;49m\u001b[43mfrom_geojson\u001b[49m\u001b[43m(\u001b[49m\u001b[43mgeometry\u001b[49m\u001b[43m,\u001b[49m\u001b[43m \u001b[49m\u001b[43minvalid_handler\u001b[49m\u001b[43m,\u001b[49m\u001b[43m \u001b[49m\u001b[38;5;241;43m*\u001b[39;49m\u001b[38;5;241;43m*\u001b[39;49m\u001b[43mkwargs\u001b[49m\u001b[43m)\u001b[49m\n",
      "\u001b[0;31mGEOSException\u001b[0m: ParseException: Error parsing JSON: '[json.exception.parse_error.101] parse error at line 1, column 1: syntax error while parsing value - invalid literal; last read: '/''"
     ]
    }
   ],
   "source": [
    "shapely.geometry.polygon.Polygon.contains"
   ]
  },
  {
   "cell_type": "code",
   "execution_count": null,
   "id": "f26ec948-7644-4d2b-8294-dd2942fc9870",
   "metadata": {},
   "outputs": [],
   "source": []
  }
 ],
 "metadata": {
  "kernelspec": {
   "display_name": "Python 3 (ipykernel)",
   "language": "python",
   "name": "python3"
  },
  "language_info": {
   "codemirror_mode": {
    "name": "ipython",
    "version": 3
   },
   "file_extension": ".py",
   "mimetype": "text/x-python",
   "name": "python",
   "nbconvert_exporter": "python",
   "pygments_lexer": "ipython3",
   "version": "3.12.3"
  }
 },
 "nbformat": 4,
 "nbformat_minor": 5
}
