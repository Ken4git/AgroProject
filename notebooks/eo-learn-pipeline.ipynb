{
 "cells": [
  {
   "cell_type": "code",
   "execution_count": null,
   "metadata": {},
   "outputs": [],
   "source": [
    "%load_ext autoreload\n",
    "%autoreload 2"
   ]
  },
  {
   "cell_type": "markdown",
   "metadata": {},
   "source": [
    "# EO-LEARN PIPELINE"
   ]
  },
  {
   "cell_type": "markdown",
   "metadata": {},
   "source": [
    "## Imports"
   ]
  },
  {
   "cell_type": "code",
   "execution_count": null,
   "metadata": {},
   "outputs": [],
   "source": [
    "### Data manipulation ###\n",
    "import pandas as pd\n",
    "import numpy as np\n",
    "import geopandas as gpd\n",
    "from bs4 import BeautifulSoup\n",
    "import rasterio\n",
    "from shapely.geometry import Polygon\n",
    "\n",
    "### Utils ###\n",
    "from datetime import datetime\n",
    "import os\n",
    "import sys\n",
    "from satellitecrops.utils.sql_connector import SQLConnection\n",
    "import tqdm\n",
    "\n",
    "### Data viz ###\n",
    "import matplotlib.pyplot as plt\n",
    "\n",
    "### EO-Learn / SentinelHub ###\n",
    "from sentinelhub import UtmZoneSplitter, BBox, CRS\n",
    "from eolearn.core import (\n",
    "    EOPatch,\n",
    "    EOExecutor,\n",
    "    FeatureType,\n",
    "    EOTask,\n",
    "    SaveTask,\n",
    "    OverwritePermission,\n",
    "    EOWorkflow,\n",
    "    linearly_connect_tasks\n",
    "    )\n",
    "from eolearn.io import SentinelHubInputTask, VectorImportTask\n",
    "from eolearn.geometry import VectorToRasterTask\n"
   ]
  },
  {
   "cell_type": "markdown",
   "metadata": {},
   "source": [
    "## Environnement variables"
   ]
  },
  {
   "cell_type": "code",
   "execution_count": null,
   "metadata": {},
   "outputs": [],
   "source": [
    "# TODO : Use var env for region selection\n",
    "REGION = \"pays_basque\" # ~zone\n",
    "DATA_PATH = os.path.join(os.path.dirname(os.getcwd()), \"data\", \"region\", REGION)\n",
    "EOPATCH_FOLDER = os.path.join(DATA_PATH, \"eopatches\")\n",
    "EOPATCH_SAMPLES_FOLDER = os.path.join(DATA_PATH, \"eopatches_sampled\")\n",
    "RESULTS_FOLDER = os.path.join(DATA_PATH, \"results\")\n",
    "LOCAL_CRS = 32630"
   ]
  },
  {
   "cell_type": "markdown",
   "metadata": {},
   "source": [
    "## Load local image and coordinates"
   ]
  },
  {
   "cell_type": "code",
   "execution_count": null,
   "metadata": {},
   "outputs": [],
   "source": [
    "# Init data folders\n",
    "for folder in (EOPATCH_FOLDER, EOPATCH_SAMPLES_FOLDER, RESULTS_FOLDER):\n",
    "    os.makedirs(folder, exist_ok=True)"
   ]
  },
  {
   "cell_type": "code",
   "execution_count": null,
   "metadata": {},
   "outputs": [],
   "source": [
    "# load zone coordinates\n",
    "with open(os.path.join(DATA_PATH, \"metadata.xml\")) as fd:\n",
    "    soup = BeautifulSoup(fd, \"xml\")\n",
    "    zone_coordinate = soup.find(\"EXT_POS_LIST\").text.split()\n",
    "    zone_coordinate = np.array(zone_coordinate).reshape(\n",
    "        int(len(zone_coordinate)/2), 2\n",
    "    )\n",
    "zone_coordinate"
   ]
  },
  {
   "cell_type": "code",
   "execution_count": null,
   "metadata": {},
   "outputs": [],
   "source": [
    "from rasterio.plot import show"
   ]
  },
  {
   "cell_type": "code",
   "execution_count": null,
   "metadata": {},
   "outputs": [],
   "source": [
    "# load image of the zone\n",
    "with rasterio.open(os.path.join(DATA_PATH, \"tci_img.jp2\")) as fd:\n",
    "    raster_img = fd.read(1)"
   ]
  },
  {
   "cell_type": "code",
   "execution_count": null,
   "metadata": {},
   "outputs": [],
   "source": [
    "show(raster_img)"
   ]
  },
  {
   "cell_type": "code",
   "execution_count": null,
   "metadata": {},
   "outputs": [],
   "source": [
    "# load covered zone of region\n",
    "contour_path = os.path.join(DATA_PATH, \"contour_zone.geojson\")\n",
    "zone_covered = gpd.read_file(contour_path).to_crs(LOCAL_CRS)\n",
    "zone_covered"
   ]
  },
  {
   "cell_type": "code",
   "execution_count": null,
   "metadata": {},
   "outputs": [],
   "source": [
    "zone_covered.bounds"
   ]
  },
  {
   "cell_type": "markdown",
   "metadata": {},
   "source": [
    "## Divide region into boxes"
   ]
  },
  {
   "cell_type": "markdown",
   "metadata": {},
   "source": [
    "### Parameters"
   ]
  },
  {
   "cell_type": "code",
   "execution_count": null,
   "metadata": {},
   "outputs": [],
   "source": [
    "resolution = 10 # meters per pixel, used for raster dimension and satellite images\n",
    "patch_dim = 255 # number of pixels"
   ]
  },
  {
   "cell_type": "markdown",
   "metadata": {},
   "source": [
    "### Create a splitter to obtain a list of bboxes"
   ]
  },
  {
   "cell_type": "code",
   "execution_count": null,
   "metadata": {},
   "outputs": [],
   "source": [
    "splitter = UtmZoneSplitter(\n",
    "    zone_covered.geometry.values,\n",
    "    LOCAL_CRS,\n",
    "    patch_dim * resolution)\n",
    "bbox_list = np.array(splitter.get_bbox_list())\n",
    "info_list = np.array(splitter.get_info_list())"
   ]
  },
  {
   "cell_type": "markdown",
   "metadata": {},
   "source": [
    "### Prepare info of selected EOPatches"
   ]
  },
  {
   "cell_type": "code",
   "execution_count": null,
   "metadata": {},
   "outputs": [],
   "source": [
    "geometry = [Polygon(bbox.get_polygon()) for bbox in bbox_list]\n",
    "\n",
    "idxs = [info[\"index\"] for info in info_list]\n",
    "idxs_x = [info[\"index_x\"] for info in info_list]\n",
    "idxs_y = [info[\"index_y\"] for info in info_list]\n",
    "\n",
    "bbox_gdf = gpd.GeoDataFrame({\n",
    "    \"index\": idxs,\n",
    "    \"index_x\": idxs_x,\n",
    "    \"index_y\": idxs_y}, crs=LOCAL_CRS, geometry=geometry)"
   ]
  },
  {
   "cell_type": "markdown",
   "metadata": {},
   "source": [
    "### Save to shapefile"
   ]
  },
  {
   "cell_type": "code",
   "execution_count": null,
   "metadata": {},
   "outputs": [],
   "source": [
    "shapefile_name = \"grid_paysbasque_500x500.gpkg\"\n",
    "bbox_gdf.to_file(os.path.join(RESULTS_FOLDER, shapefile_name), driver=\"GPKG\")"
   ]
  },
  {
   "cell_type": "markdown",
   "metadata": {},
   "source": [
    "### Display boxes over covered region"
   ]
  },
  {
   "cell_type": "code",
   "execution_count": null,
   "metadata": {},
   "outputs": [],
   "source": [
    "fig, ax = plt.subplots(figsize=(20, 20))\n",
    "zone_covered.plot(ax=ax, facecolor=\"w\", edgecolor=\"b\")\n",
    "bbox_gdf.plot(ax=ax, facecolor=\"w\", edgecolor=\"r\", alpha=0.5)"
   ]
  },
  {
   "cell_type": "markdown",
   "metadata": {},
   "source": [
    "## Create eopatches for covered region from sentinel image"
   ]
  },
  {
   "cell_type": "code",
   "execution_count": null,
   "metadata": {},
   "outputs": [],
   "source": [
    "sentinel_img_gpd = gpd.GeoDataFrame({\n",
    "    \"geometry\": [Polygon([[lon, lat] for lat, lon in zone_coordinate])]\n",
    "}, crs=\"EPSG:4326\").to_crs(LOCAL_CRS)\n",
    "sentinel_img_gpd"
   ]
  },
  {
   "cell_type": "code",
   "execution_count": null,
   "metadata": {},
   "outputs": [],
   "source": [
    "boundaries = sentinel_img_gpd.bounds.iloc[0].to_list()"
   ]
  },
  {
   "cell_type": "code",
   "execution_count": null,
   "metadata": {},
   "outputs": [],
   "source": [
    "eopatches = EOPatch(bbox=BBox(bbox=boundaries, crs=CRS('32630')))\n",
    "\n",
    "if raster_img.ndim == 3:\n",
    "    eopatches.data_timeless['BANDS'] = raster_img\n",
    "else:\n",
    "    eopatches.data_timeless['BANDS'] = raster_img[..., np.newaxis]"
   ]
  },
  {
   "cell_type": "markdown",
   "metadata": {},
   "source": [
    "### Get parcelles_datas from DB or file if exists"
   ]
  },
  {
   "cell_type": "code",
   "execution_count": null,
   "metadata": {},
   "outputs": [],
   "source": [
    "parcelles_path = os.path.join(DATA_PATH, f\"{REGION}_parcelles.geojson\")\n",
    "\n",
    "if not os.path.isfile(parcelles_path):\n",
    "    conn = SQLConnection()\n",
    "    parcelles_df = conn.get_parcelles_in_bbox(zone_covered.geometry, 2154)\n",
    "    parcelles_df.to_file(parcelles_df, driver=\"GeoJSON\") # save data to file\n",
    "else:\n",
    "    print(\"loading cache\")\n",
    "    parcelles_df = gpd.read_file(parcelles_path)\n",
    "parcelles_df"
   ]
  },
  {
   "cell_type": "markdown",
   "metadata": {},
   "source": [
    "### EO-Learn workflow"
   ]
  },
  {
   "cell_type": "code",
   "execution_count": null,
   "metadata": {},
   "outputs": [],
   "source": [
    "vector_feature = FeatureType.VECTOR_TIMELESS, \"RPG_REFERENCE\"\n",
    "\n",
    "vector_import_task = VectorImportTask(vector_feature, parcelles_path)\n",
    "\n",
    "rasterization_task = VectorToRasterTask(\n",
    "    vector_feature,\n",
    "    (FeatureType.MASK_TIMELESS, \"MASK\"),\n",
    "    values_column=\"code_group\",\n",
    "    raster_resolution=resolution,\n",
    "    raster_dtype=np.uint8\n",
    ")\n",
    "\n",
    "save = SaveTask(EOPATCH_FOLDER, overwrite_permission=OverwritePermission.OVERWRITE_FEATURES)"
   ]
  },
  {
   "cell_type": "code",
   "execution_count": null,
   "metadata": {},
   "outputs": [],
   "source": [
    "workflow_nodes = linearly_connect_tasks(\n",
    "    vector_import_task, rasterization_task, save\n",
    ")\n",
    "\n",
    "workflow = EOWorkflow(workflow_nodes)\n",
    "\n",
    "workflow.dependency_graph()"
   ]
  },
  {
   "cell_type": "code",
   "execution_count": null,
   "metadata": {},
   "outputs": [],
   "source": [
    "parcelles_df[\"code_group\"] = parcelles_df.code_group.astype(\"int64\")\n",
    "parcelles_df.to_file(parcelles_path)\n",
    "parcelles_df.info()"
   ]
  },
  {
   "cell_type": "code",
   "execution_count": null,
   "metadata": {},
   "outputs": [],
   "source": [
    "input_node = workflow_nodes[0]\n",
    "save_node = workflow_nodes[-1]\n",
    "exec_args = []\n",
    "\n",
    "for idx, bbox in enumerate(bbox_list[np.arange(0, 10, 1)]):\n",
    "    exec_args.append(\n",
    "        {\n",
    "            input_node: {\"bbox\": bbox},\n",
    "            save_node: {\"eopatch_folder\": f\"eopatch_{idx}\"}\n",
    "        }\n",
    "    )\n",
    "\n",
    "executor = EOExecutor(workflow, exec_args, save_logs=True)\n",
    "executor.run(workers=4)\n",
    "executor.make_report()"
   ]
  },
  {
   "cell_type": "code",
   "execution_count": null,
   "metadata": {},
   "outputs": [],
   "source": [
    "fig, axs = plt.subplots(nrows=5, ncols=5, figsize=(20, 25))\n",
    "\n",
    "for i in tqdm(range(len(bbox_list[np.arange(0, 10, 1)]))):\n",
    "    eopatch_path = os.path.join(EOPATCH_FOLDER, f\"eopatch_{i}\")\n",
    "    eopatch = EOPatch.load(eopatch_path, lazy_loading=True)\n",
    "\n",
    "    ax = axs[i // 5][i % 5]\n",
    "    im = ax.imshow(eopatch.mask_timeless[\"RPG_colors_dict\"].squeeze())\n",
    "    ax.set_xticks([])\n",
    "    ax.set_yticks([])\n",
    "    ax.set_aspect(\"auto\")\n",
    "    del eopatch\n",
    "\n",
    "fig.subplots_adjust(wspace=0, hspace=0)\n",
    "\n",
    "cb = fig.colorbar(im, ax=axs.ravel().tolist(), orientation=\"horizontal\", pad=0.01, aspect=100)\n",
    "cb.ax.tick_params(labelsize=20)\n",
    "# cb.set_ticks([entry.id for entry in LULC])\n",
    "# cb.ax.set_xticklabels([entry.name for entry in LULC], rotation=45, fontsize=15)\n",
    "plt.show();"
   ]
  },
  {
   "cell_type": "code",
   "execution_count": null,
   "metadata": {},
   "outputs": [],
   "source": [
    "from satellitecrops.eolearn.pipeline import get_zone_to_patch\n",
    "from satellitecrops.utils.bucket import BucketConnector\n",
    "import geojson\n",
    "\n",
    "bucket = BucketConnector()\n"
   ]
  },
  {
   "cell_type": "code",
   "execution_count": null,
   "metadata": {},
   "outputs": [],
   "source": [
    "res = bucket.get_blob(\"contour_zone.geojson\")\n",
    "geo_data = geojson.loads(res)\n"
   ]
  },
  {
   "cell_type": "code",
   "execution_count": null,
   "metadata": {},
   "outputs": [],
   "source": [
    "import geopandas as gpd\n",
    "\n",
    "zone = gpd.GeoDataFrame(geometry=[geo_data[\"geometry\"]], crs=4326)"
   ]
  },
  {
   "cell_type": "code",
   "execution_count": null,
   "metadata": {},
   "outputs": [],
   "source": [
    "zone.to_crs(LOCAL_CRS)"
   ]
  },
  {
   "cell_type": "code",
   "execution_count": null,
   "metadata": {},
   "outputs": [],
   "source": [
    "zone.geometry.values"
   ]
  },
  {
   "cell_type": "code",
   "execution_count": null,
   "metadata": {},
   "outputs": [],
   "source": [
    "def add_data2subpatch(sat_patch, eopatch):\n",
    "    # Find the pixel indices corresponding to the small_bbox\n",
    "    height, width = sat_patch.data_timeless['BANDS'].shape[-2:]\n",
    "\n",
    "    min_x, min_y = eopatch.bbox.lower_left\n",
    "    max_x, max_y = eopatch.bbox.upper_right\n",
    "    patch_min_x, patch_min_y = sat_patch.bbox.lower_left\n",
    "    patch_max_x, patch_max_y = sat_patch.bbox.upper_right\n",
    "    # compute coord of each pixel of sat_patch\n",
    "    x_pxl_coord = np.linspace(patch_min_x, patch_max_x, width)\n",
    "    y_pxl_coord = np.linspace(patch_min_y, patch_max_y, height)\n",
    "    x_min_idx = np.searchsorted(x_pxl_coord, min_x)\n",
    "    x_max_idx = np.searchsorted(x_pxl_coord, max_x)\n",
    "    y_min_idx = np.searchsorted(y_pxl_coord, min_y)\n",
    "    y_max_idx = np.searchsorted(y_pxl_coord, max_y)\n",
    "    # Copy data features\n",
    "    for feature_type, feature_name in sat_patch.get_features():\n",
    "        if feature_type.is_spatial():\n",
    "            eopatch[feature_type][feature_name] = sat_patch[feature_type][feature_name][:,height-y_max_idx:height-y_min_idx, x_min_idx:x_max_idx]\n",
    "    return eopatch"
   ]
  },
  {
   "cell_type": "code",
   "execution_count": null,
   "metadata": {},
   "outputs": [],
   "source": [
    "for eo_file in eopatches_files:\n",
    "    eo_file_path = os.path.join(EOPATCH_FOLDER, eo_file)\n",
    "    eopatch = EOPatch.load(eo_file_path, lazy_loading=True)\n",
    "    add_data2subpatch(sat_patch, eopatch)\n",
    "    eopatch.save(eo_file_path, overwrite_permission=OverwritePermission.OVERWRITE_FEATURES)\n"
   ]
  },
  {
   "cell_type": "code",
   "execution_count": null,
   "metadata": {},
   "outputs": [],
   "source": [
    "eopatch_path = os.path.join(EOPATCH_FOLDER, f\"eopatch_{1}\")\n",
    "eopatch = EOPatch.load(eopatch_path, lazy_loading=True)\n"
   ]
  },
  {
   "cell_type": "code",
   "execution_count": null,
   "metadata": {},
   "outputs": [],
   "source": [
    "eopatch.bbox.lower_left, eopatch.bbox.upper_right"
   ]
  },
  {
   "cell_type": "code",
   "execution_count": null,
   "metadata": {},
   "outputs": [],
   "source": [
    "src = rasterio.open(\"./out_image.jp2\")"
   ]
  },
  {
   "cell_type": "code",
   "execution_count": null,
   "metadata": {},
   "outputs": [],
   "source": [
    "src.bounds"
   ]
  },
  {
   "cell_type": "code",
   "execution_count": null,
   "metadata": {},
   "outputs": [],
   "source": [
    "type(src.bounds)"
   ]
  },
  {
   "cell_type": "code",
   "execution_count": null,
   "metadata": {},
   "outputs": [],
   "source": [
    "transform = src.transform\n",
    "transform"
   ]
  },
  {
   "cell_type": "code",
   "execution_count": null,
   "metadata": {},
   "outputs": [],
   "source": [
    "lower_left = eopatch.bbox.lower_left\n",
    "upper_right = eopatch.bbox.upper_right"
   ]
  },
  {
   "cell_type": "code",
   "execution_count": null,
   "metadata": {},
   "outputs": [],
   "source": [
    "from rasterio.windows import Window"
   ]
  },
  {
   "cell_type": "code",
   "execution_count": null,
   "metadata": {},
   "outputs": [],
   "source": [
    "# Convert coordinates to pixel indices\n",
    "col_start, row_stop = ~transform * lower_left\n",
    "col_stop, row_start = ~transform * upper_right\n",
    "\n",
    "# Ensure the indices are integers\n",
    "col_start, row_stop = int(col_start), int(row_stop)\n",
    "col_stop, row_start = int(col_stop), int(row_start)\n",
    "\n",
    "# Calculate the width and height of the window\n",
    "width = col_stop - col_start\n",
    "height = row_stop - row_start\n",
    "\n",
    "# Define the window\n",
    "window = Window(col_start, row_start, width, height)\n",
    "\n",
    "# Read the window\n",
    "patch = src.read(window=window)\n",
    "\n",
    "# Update the transform for the new window\n",
    "new_transform = src.window_transform(window)\n",
    "\n",
    "# Metadata for the output file\n",
    "out_meta = src.meta.copy()\n",
    "out_meta.update({\n",
    "    \"driver\": \"JP2\",\n",
    "    \"height\": height,\n",
    "    \"width\": width,\n",
    "    \"transform\": new_transform\n",
    "})\n",
    "\n",
    "# Save the patch to a new file\n",
    "with rasterio.open(\"./new_out_eo_patch_img.jp2\", \"w\", **out_meta) as dest:\n",
    "    dest.write(patch)"
   ]
  },
  {
   "cell_type": "code",
   "execution_count": null,
   "metadata": {},
   "outputs": [],
   "source": [
    "img = rasterio.open(\"./new_out_eo_patch_img.jp2\")"
   ]
  },
  {
   "cell_type": "code",
   "execution_count": null,
   "metadata": {},
   "outputs": [],
   "source": [
    "data = img.read(1)"
   ]
  },
  {
   "cell_type": "code",
   "execution_count": null,
   "metadata": {},
   "outputs": [],
   "source": [
    "np.expand_dims(data, 0).shape"
   ]
  },
  {
   "cell_type": "code",
   "execution_count": null,
   "metadata": {},
   "outputs": [],
   "source": [
    "plt.imshow(data)"
   ]
  },
  {
   "cell_type": "code",
   "execution_count": null,
   "metadata": {},
   "outputs": [],
   "source": [
    "data = EOPatch.load(\"/home/adbla/code/adblanq/satellite-crops/data/departments/landes/eopatches/eopatch_0\")"
   ]
  },
  {
   "cell_type": "code",
   "execution_count": null,
   "metadata": {},
   "outputs": [],
   "source": [
    "data.mask_timeless[\"MASK\"].shape"
   ]
  },
  {
   "cell_type": "code",
   "execution_count": null,
   "metadata": {},
   "outputs": [],
   "source": [
    "data.data_timeless[\"BANDS\"].shape"
   ]
  },
  {
   "cell_type": "code",
   "execution_count": null,
   "metadata": {},
   "outputs": [],
   "source": [
    "plt.imshow(data.data_timeless[\"BANDS\"].squeeze())\n"
   ]
  },
  {
   "cell_type": "code",
   "execution_count": null,
   "metadata": {},
   "outputs": [],
   "source": [
    "gpd.GeoDataFrame.from_file(\"./../data/departments/landes/contour_zone.geojson\").bounds"
   ]
  },
  {
   "cell_type": "markdown",
   "metadata": {},
   "source": [
    "# Satellite crops pipeline"
   ]
  },
  {
   "cell_type": "code",
   "execution_count": null,
   "metadata": {},
   "outputs": [],
   "source": [
    "### Data manipulation ###\n",
    "import pandas as pd\n",
    "import numpy as np\n",
    "from bs4 import BeautifulSoup\n",
    "\n",
    "### Utils ###\n",
    "import os\n",
    "import sys\n",
    "### eolearn tools\n",
    "\n",
    "import satellitecrops.eolearn.pipeline as pipeline\n",
    "from satellitecrops.eolearn.eolearn_workflow import make_and_run_workflow\n",
    "from satellitecrops.eolearn.create_eopatches import get_zone_to_patch, create_bbox_of_zone, get_parcelles_from_db, zone2sat_patch\n",
    "from satellitecrops.eolearn.enrich_eopatches import add_sat_patch_to_eopatch, add_data_from_sat_patches_to_eopatches\n",
    "from satellitecrops.utils.sql_connector import SQLConnection\n",
    "from satellitecrops.params import *\n",
    "from satellitecrops.utils.bucket import BucketConnector\n",
    "\n",
    "from colorama import Fore, Style\n"
   ]
  },
  {
   "cell_type": "code",
   "execution_count": null,
   "metadata": {},
   "outputs": [],
   "source": [
    "\n",
    "pipeline.init_env()\n"
   ]
  },
  {
   "cell_type": "code",
   "execution_count": null,
   "metadata": {},
   "outputs": [],
   "source": [
    "sat_dir_path = os.path.join(DATA_DIR_LOCAL, SAT_IMG_FOLDER, DPT_FOLDER, IMG_ORIGIN, IMG_LOC, YEAR, \"1\")\n",
    "shots_list = os.listdir(sat_dir_path)"
   ]
  },
  {
   "cell_type": "code",
   "execution_count": null,
   "metadata": {},
   "outputs": [],
   "source": [
    "import rasterio\n",
    "import matplotlib.pyplot as plt\n",
    "import numpy as np\n",
    "num_shots = len(shots_list)\n",
    "img_clean = np.zeros((1))\n",
    "for i in range(num_shots):\n",
    "    img_path = os.path.join(sat_dir_path, shots_list[i], 'TCI.tif')\n",
    "    cld_path = os.path.join(sat_dir_path, shots_list[i], 'SCL.tif')\n",
    "    if os.path.isfile(img_path) & os.path.isfile(cld_path):\n",
    "        with rasterio.open(img_path) as img_file:\n",
    "            with rasterio.open(cld_path) as cld_file:\n",
    "                img = img_file.read()\n",
    "                print(img.shape, img.strides)\n",
    "                if img_clean.shape != img.shape:\n",
    "                    img_clean = np.zeros(img.shape, dtype=np.uint8)\n",
    "                cld = np.repeat(np.repeat(np.isin(cld_file.read(), [4, 5, 6, 7]), 2, axis=2), 2, axis=1)\n",
    "                img_clean[img_clean==0]= (img*(np.repeat(cld, img.shape[0], axis=0)))[img_clean==0]\n",
    "                print(img_clean.shape, img_clean.strides)\n",
    "del img\n",
    "del cld\n",
    "print(img_clean.dtype)\n",
    "plt.imshow(np.moveaxis(img_clean, 0, 2))\n",
    "plt.figure(figsize=(10,10))"
   ]
  },
  {
   "cell_type": "code",
   "execution_count": null,
   "metadata": {},
   "outputs": [],
   "source": [
    "from satellitecrops.params import BANDS_USED\n",
    "for band in BANDS_USED:\n",
    "    img_path = os.path.join(sat_dir_path, shots_list[1], band+'.tif')\n",
    "    if os.path.isfile(img_path):\n",
    "        with rasterio.open(img_path) as img_file:\n",
    "            img = img_file.read()\n",
    "            print(band, img.shape, img.strides)"
   ]
  },
  {
   "cell_type": "code",
   "execution_count": null,
   "metadata": {},
   "outputs": [],
   "source": [
    "print(Fore.MAGENTA + \"\\n⏳ Loading satellite image of the zone\" + Style.RESET_ALL)\n",
    "add_data_from_sat_patches_to_eopatches(os.listdir(EOPATCH_FOLDER), sat_dir_path)"
   ]
  }
 ],
 "metadata": {
  "kernelspec": {
   "display_name": "satellite-crops",
   "language": "python",
   "name": "python3"
  },
  "language_info": {
   "codemirror_mode": {
    "name": "ipython",
    "version": 3
   },
   "file_extension": ".py",
   "mimetype": "text/x-python",
   "name": "python",
   "nbconvert_exporter": "python",
   "pygments_lexer": "ipython3",
   "version": "3.12.3"
  }
 },
 "nbformat": 4,
 "nbformat_minor": 2
}
