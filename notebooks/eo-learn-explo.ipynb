{
 "cells": [
  {
   "cell_type": "markdown",
   "id": "21e0ded8-97cd-4658-afd3-db9638ab8163",
   "metadata": {},
   "source": [
    "# Explore eo-learn package "
   ]
  },
  {
   "cell_type": "code",
   "execution_count": null,
   "id": "cb2d4995-d55c-4f97-98e5-877d36d67fbd",
   "metadata": {},
   "outputs": [],
   "source": [
    "# ML libs\n",
    "import pandas as pd\n",
    "import numpy as np\n",
    "from aenum import MultiValueEnum\n",
    "import geopandas as gpd\n",
    "\n",
    "import datetime\n",
    "# File manipulation\n",
    "import os\n",
    "from urllib.request import urlopen\n",
    "import json\n",
    "from bs4 import BeautifulSoup\n",
    "import xml.etree.ElementTree as ET\n",
    "import rasterio\n",
    "import rasterio.plot as rplt\n",
    "\n",
    "# Graphic\n",
    "import matplotlib.pyplot as plt\n",
    "from matplotlib.colors import BoundaryNorm\n",
    "import matplotlib.cm as cmap\n",
    "import matplotlib.pyplot as plt\n",
    "import plotly.express as px\n",
    "from sentinelhub import BBox, CRS\n",
    "import shapely\n",
    "\n",
    "# Environment variables\n",
    "datasets_dir = os.environ.get('DATA_DIR_LOCAL')"
   ]
  },
  {
   "cell_type": "code",
   "execution_count": null,
   "id": "9592acfa-7382-41fc-9e0f-296b547c195d",
   "metadata": {},
   "outputs": [],
   "source": [
    "one_view_dir = \"RPG/S2A_MSIL2A_20240412T105621_N0510_R094_T30TXP_20240412T165247.SAFE\"\n",
    "one_view_path = os.path.join(datasets_dir,one_view_dir)"
   ]
  },
  {
   "cell_type": "markdown",
   "id": "18f1d292-41d4-4b1b-973d-08954467e5b7",
   "metadata": {},
   "source": [
    "# Accessing the bounding-box info of the satellite image"
   ]
  },
  {
   "cell_type": "code",
   "execution_count": null,
   "id": "f0a01eb9-68f8-4872-8fd3-1a781337ae05",
   "metadata": {},
   "outputs": [],
   "source": [
    "one_view_path = os.path.join(one_view_path,os.listdir(one_view_path)[0])"
   ]
  },
  {
   "cell_type": "code",
   "execution_count": null,
   "id": "29782542-2a47-4d7d-bd50-abe4fd942e33",
   "metadata": {},
   "outputs": [],
   "source": [
    "os.listdir(one_view_path)"
   ]
  },
  {
   "cell_type": "code",
   "execution_count": null,
   "id": "7af0dcca-e2d3-4239-a5ec-f51899a40d80",
   "metadata": {},
   "outputs": [],
   "source": [
    "MTD_MSIL2A_file = os.path.join(one_view_path, 'MTD_MSIL2A.xml')\n",
    "with open(MTD_MSIL2A_file) as fp:\n",
    "    MTD_MSIL2A_soup = BeautifulSoup(fp,'xml')"
   ]
  },
  {
   "cell_type": "code",
   "execution_count": null,
   "id": "8d7ddb14-9cbc-40e4-9bb9-e823ec7a82d2",
   "metadata": {
    "scrolled": true
   },
   "outputs": [],
   "source": [
    "MTD_MSIL2A_coord_list = MTD_MSIL2A_soup.find('EXT_POS_LIST').text.split()"
   ]
  },
  {
   "cell_type": "code",
   "execution_count": null,
   "id": "c8b8c67d-c783-4335-9255-a22ff5ad0e3d",
   "metadata": {},
   "outputs": [],
   "source": [
    "coord_array = np.array(MTD_MSIL2A_coord_list).reshape(int(len(MTD_MSIL2A_coord_list)/2), 2)"
   ]
  },
  {
   "cell_type": "markdown",
   "id": "6a4b383f-1162-495c-98e2-6465dd38615c",
   "metadata": {},
   "source": [
    "## Create geopandas dataframe with image bounds"
   ]
  },
  {
   "cell_type": "code",
   "execution_count": null,
   "id": "0b470848-21bc-4942-9f28-6e42a0045562",
   "metadata": {},
   "outputs": [],
   "source": [
    "#TODO compute local_CRS\n",
    "local_CRS = '32630'"
   ]
  },
  {
   "cell_type": "code",
   "execution_count": null,
   "id": "c0218613-7377-43a6-a1f9-6c073cee0b02",
   "metadata": {},
   "outputs": [],
   "source": [
    "img_gdf = gpd.GeoDataFrame({\"id\": [0], \"geometry\": [shapely.geometry.Polygon([[lon, lat] for lat, lon in coord_array])]}, crs=\"EPSG:4326\").to_crs(local_CRS)\n",
    "img_gdf['geometry']"
   ]
  },
  {
   "cell_type": "markdown",
   "id": "5d301512-9a40-4317-a5b1-b559eef59cc3",
   "metadata": {},
   "source": [
    "## Plot sentinel image, pays-basque shape, bboxes of selected area"
   ]
  },
  {
   "cell_type": "code",
   "execution_count": null,
   "id": "452bef01-654f-405c-b74f-2b8fb711a7d2",
   "metadata": {},
   "outputs": [],
   "source": [
    "left, bottom, right, top = img_gdf['geometry'][0].bounds"
   ]
  },
  {
   "cell_type": "code",
   "execution_count": null,
   "id": "d87e9f2d-9212-4f14-b5f8-cbca5f11d344",
   "metadata": {},
   "outputs": [],
   "source": [
    "img_path = os.path.join(one_view_path, 'GRANULE/L2A_T30TXP_A045994_20240412T110532/IMG_DATA/R10m/T30TXP_20240412T105621_TCI_10m.jp2')\n",
    "\n",
    "# Reading the jp2s with rasterio\n",
    "with rasterio.open(img_path) as f:\n",
    "    sentinel_img=np.array(f.read())"
   ]
  },
  {
   "cell_type": "code",
   "execution_count": null,
   "id": "35637c5f-e24c-4fb7-a0f5-3061a651e83c",
   "metadata": {},
   "outputs": [],
   "source": [
    "rplt.show(sentinel_img) "
   ]
  },
  {
   "cell_type": "code",
   "execution_count": null,
   "id": "d2ba80f5-ea12-4635-929d-d9ed22cc4aaf",
   "metadata": {},
   "outputs": [],
   "source": [
    "shape = img_gdf['geometry'][0]\n",
    "fig_size = 10\n",
    "fig, ax = plt.subplots(figsize=(fig_size, fig_size))\n",
    "ax.set_title(f\"Selected {size_of_selected_area}x{size_of_selected_area} tiles from Pays basque\", fontsize=0.2*fig_size)\n",
    "zone_covered.plot(ax=ax, facecolor=\"w\", edgecolor=\"b\", alpha=0.8)\n",
    "img_gdf['geometry'].plot(ax=ax, alpha=0.1)\n",
    "bbox_gdf[bbox_gdf.index.isin(patch_ids)].plot(ax=ax, facecolor=\"w\", edgecolor=\"r\", alpha=0.5)\n",
    "#plt.imshow(sentinel_img, extent=(left, right, bottom, top), alpha=0.5);\n",
    "rplt.show(sentinel_img, ax=ax) "
   ]
  },
  {
   "cell_type": "markdown",
   "id": "8069d380-8bb1-4e99-8e5a-ceb9d4d75875",
   "metadata": {},
   "source": [
    "## Create eopatch from sentinel image"
   ]
  },
  {
   "cell_type": "code",
   "execution_count": null,
   "id": "9447ecd1-920b-4cb4-82b1-8e06b0901ab9",
   "metadata": {},
   "outputs": [],
   "source": [
    "eopatch = EOPatch(bbox=BBox(bbox=shape.bounds, crs=CRS('32630')))\n",
    "\n",
    "# If the image has 3 channels (RGB), add it as a timeless feature\n",
    "if sentinel_img.ndim == 3:\n",
    "    eopatch.data_timeless['BANDS'] = sentinel_img\n",
    "# If the image is grayscale (2D), add an extra channel dimension\n",
    "else:\n",
    "    eopatch.data_timeless['BANDS'] = sentinel_img[..., np.newaxis]"
   ]
  },
  {
   "cell_type": "code",
   "execution_count": null,
   "id": "abdff872-831a-4d9c-a0c1-731481086013",
   "metadata": {},
   "outputs": [],
   "source": [
    "eopatch"
   ]
  },
  {
   "cell_type": "code",
   "execution_count": null,
   "id": "a6e06aee-0b5a-4bb6-a328-56a2ac8cc2f1",
   "metadata": {},
   "outputs": [],
   "source": [
    "plt.imshow(eopatch.data_timeless[\"BANDS\"], extent=(left, right, bottom, top));"
   ]
  },
  {
   "cell_type": "markdown",
   "id": "31a2a946-9b6a-4fcc-b344-09d3aa0c95de",
   "metadata": {},
   "source": [
    "## Create sub patches"
   ]
  },
  {
   "cell_type": "code",
   "execution_count": null,
   "id": "167a9ec7-5379-4b72-b484-fab5280b581f",
   "metadata": {
    "scrolled": true
   },
   "outputs": [],
   "source": [
    "small_patch = create_subpatch(eopatch, bbox_list[20])\n",
    "small_patch"
   ]
  },
  {
   "cell_type": "code",
   "execution_count": null,
   "id": "dd6e4a8f-a1ff-40c1-950f-a36382e3a703",
   "metadata": {},
   "outputs": [],
   "source": [
    "left, bottom, right, top = small_patch.bbox"
   ]
  },
  {
   "cell_type": "code",
   "execution_count": null,
   "id": "294e3170-df36-4e04-bdee-ef4815792539",
   "metadata": {},
   "outputs": [],
   "source": [
    "bbox_list[20].get_polygon()"
   ]
  },
  {
   "cell_type": "code",
   "execution_count": null,
   "id": "0cc52228-9d46-4172-a4af-34a7aa3eba2f",
   "metadata": {},
   "outputs": [],
   "source": [
    "gpd.GeoDataFrame(bbox_list[36])\n",
    "small_box_gdf = gpd.GeoDataFrame({\"id\": [0], \"geometry\": [shapely.geometry.Polygon([[lon, lat] for lon, lat in bbox_list[36].get_polygon()])]}, crs=local_CRS)"
   ]
  },
  {
   "cell_type": "code",
   "execution_count": null,
   "id": "1c0d9951-8ff3-46b4-a0e4-49bc558ab0ae",
   "metadata": {},
   "outputs": [],
   "source": [
    "fig_size = 10\n",
    "fig, ax = plt.subplots(figsize=(fig_size, fig_size))\n",
    "zone_covered.plot(ax=ax, facecolor=\"w\", edgecolor=\"b\", alpha=0.1)\n",
    "ax.imshow(small_patch.data_timeless[\"BANDS\"], extent=(left, right, bottom, top))\n",
    "small_box_gdf.plot(ax=ax, facecolor=\"w\", edgecolor=\"r\", alpha=0.1)\n",
    "#bbox_gdf[bbox_gdf.index.isin(patch_ids)].plot(ax=ax, facecolor=\"w\", edgecolor=\"r\", alpha=0.1)\n",
    "   "
   ]
  },
  {
   "cell_type": "code",
   "execution_count": null,
   "id": "0b4f4315-8f80-4b1b-a479-e89facf74097",
   "metadata": {},
   "outputs": [],
   "source": [
    "plt.imshow(small_patch.data_timeless[\"BANDS\"], extent=(left, right, bottom, top))"
   ]
  },
  {
   "cell_type": "code",
   "execution_count": null,
   "id": "6083d3be-2ccc-4247-a88e-2d4f636dbbf1",
   "metadata": {},
   "outputs": [],
   "source": [
    "bbox_list[patch_ids]"
   ]
  },
  {
   "cell_type": "code",
   "execution_count": null,
   "id": "4596b1fc-1526-4b47-a9a1-821bf549b4a8",
   "metadata": {
    "scrolled": true
   },
   "outputs": [],
   "source": [
    "\n",
    "patches = []\n",
    "for bbox in bbox_list[patch_ids]:\n",
    "    print(type(bbox))\n",
    "    patch = create_subpatch(eopatch, bbox)\n",
    "    patches.append(patch)\n",
    "        "
   ]
  },
  {
   "cell_type": "code",
   "execution_count": null,
   "id": "62484a61-22f2-40e4-9ba0-c0387eeb527a",
   "metadata": {},
   "outputs": [],
   "source": [
    "# Draw the RGB images\n",
    "fig, axs = plt.subplots(ncols=3, nrows=3, figsize=(20, 20))\n",
    "\n",
    "\n",
    "for i in tqdm(range(len(patch_ids))):\n",
    "\n",
    "    ax = axs[i // 3][i % 3]\n",
    "    ax.imshow(patches[i].data_timeless[\"BANDS\"])\n",
    "    ax.set_xticks([])\n",
    "    ax.set_yticks([])\n",
    "    ax.set_aspect(\"auto\")\n",
    "    \n",
    "\n",
    "fig.subplots_adjust(wspace=0, hspace=0)"
   ]
  },
  {
   "cell_type": "code",
   "execution_count": null,
   "id": "07a3a6d9-608d-4a01-b67c-3a8458eefcaa",
   "metadata": {},
   "outputs": [],
   "source": [
    "eopatch.bbox.lower_left"
   ]
  },
  {
   "cell_type": "code",
   "execution_count": null,
   "id": "945f7d59-21f4-4c7d-9789-43f0481cebfe",
   "metadata": {},
   "outputs": [],
   "source": [
    "small_patch = create_subpatch(eopatch, bbox_list[36])\n",
    "small_patch"
   ]
  },
  {
   "cell_type": "code",
   "execution_count": null,
   "id": "377d2abb-7fd4-4c10-aebd-7ba8262a8583",
   "metadata": {},
   "outputs": [],
   "source": [
    "\n",
    "def create_subpatch(eopatch, small_bbox):\n",
    "\n",
    "    # Find the pixel indices corresponding to the small_bbox\n",
    "    height, width = eopatch.data_timeless['BANDS'].shape[:2]\n",
    "\n",
    "    min_x, min_y = small_bbox.lower_left\n",
    "    max_x, max_y = small_bbox.upper_right\n",
    "    print(min_x, min_y, max_x, max_y)\n",
    "    patch_min_x, patch_min_y = eopatch.bbox.lower_left\n",
    "    patch_max_x, patch_max_y = eopatch.bbox.upper_right\n",
    "    # compute coord of each pixel of eopatch\n",
    "    x_pxl_coord = np.linspace(patch_min_x, patch_max_x, width)\n",
    "    y_pxl_coord = np.linspace(patch_min_y, patch_max_y, height)\n",
    "    x_min_idx = np.searchsorted(x_pxl_coord, min_x)\n",
    "    x_max_idx = np.searchsorted(x_pxl_coord, max_x)\n",
    "    y_min_idx = np.searchsorted(y_pxl_coord, min_y)\n",
    "    y_max_idx = np.searchsorted(y_pxl_coord, max_y)\n",
    "    print(x_min_idx, x_max_idx, y_min_idx, y_max_idx)\n",
    "    # Create a new EOPatch\n",
    "    new_eopatch = EOPatch(bbox=BBox(bbox=(min_x, min_y, max_x, max_y), crs=local_CRS))\n",
    "\n",
    "    # Copy data features\n",
    "    for feature_type, feature_name in eopatch.get_features():\n",
    "        print(feature_name)\n",
    "        if feature_type.is_spatial():\n",
    "            new_eopatch[feature_type][feature_name] = eopatch[feature_type][feature_name][height-y_max_idx:height-y_min_idx, x_min_idx:x_max_idx, :]\n",
    "\n",
    "    return new_eopatch"
   ]
  },
  {
   "cell_type": "markdown",
   "id": "61213bad-6e61-4d35-b5af-92a074d928f7",
   "metadata": {},
   "source": [
    "# Using eo-learn"
   ]
  },
  {
   "cell_type": "code",
   "execution_count": null,
   "id": "736fe6c2-7c78-4dfc-b913-e27ffeaa248d",
   "metadata": {},
   "outputs": [],
   "source": [
    "from shapely.geometry import Polygon\n",
    "\n",
    "from tqdm.auto import tqdm\n",
    "import geopandas as gpd\n",
    "\n",
    "from sentinelhub import DataCollection, UtmZoneSplitter\n",
    "\n",
    "# Imports from eo-learn and sentinelhub\n",
    "from eolearn.core import (\n",
    "    EOExecutor,\n",
    "    EOPatch,\n",
    "    EOTask,\n",
    "    EOWorkflow,\n",
    "    FeatureType,\n",
    "    LoadTask,\n",
    "    MergeFeatureTask,\n",
    "    OverwritePermission,\n",
    "    SaveTask,\n",
    "    linearly_connect_tasks,\n",
    ")\n",
    "from eolearn.features import NormalizedDifferenceIndexTask, SimpleFilterTask\n",
    "from eolearn.features.extra.interpolation import LinearInterpolationTask\n",
    "from eolearn.geometry import ErosionTask, VectorToRasterTask\n",
    "from eolearn.io import ExportToTiffTask, SentinelHubInputTask, VectorImportTask\n",
    "from eolearn.ml_tools import FractionSamplingTask"
   ]
  },
  {
   "cell_type": "code",
   "execution_count": null,
   "id": "60f436ee-f59d-47c6-88c0-40ab4d017393",
   "metadata": {},
   "outputs": [],
   "source": [
    "# Folder where data for running the notebook is stored\n",
    "DATA_FOLDER = os.path.join(datasets_dir, \"RPG/PaysBasque\")\n",
    "# Locations for collected data and intermediate results\n",
    "EOPATCH_FOLDER = os.path.join(\".\", \"eopatches\")\n",
    "EOPATCH_SAMPLES_FOLDER = os.path.join(\".\", \"eopatches_sampled\")\n",
    "RESULTS_FOLDER = os.path.join(\".\", \"results\")\n",
    "for folder in (EOPATCH_FOLDER, EOPATCH_SAMPLES_FOLDER, RESULTS_FOLDER):\n",
    "    os.makedirs(folder, exist_ok=True)\n",
    "#TODO compute regional crs\n",
    "local_CRS = '32630'\n",
    "# Load geojson file\n",
    "zone_covered = gpd.read_file(os.path.join(DATA_FOLDER, \"contour-du-pays-basque.geojson\")).to_crs(local_CRS)\n",
    "\n",
    "# Add 500m buffer to secure sufficient data near border\n",
    "#zone_covered = zone_covered.buffer(500)\n",
    "\n",
    "# Get the country's shape in polygon format\n",
    "zone_covered_shape = zone_covered.geometry.values[0]\n",
    "\n",
    "# Plot country\n",
    "zone_covered.plot()\n",
    "plt.axis(\"off\")\n",
    "\n",
    "# Print size\n",
    "zone_covered_width = zone_covered_shape.bounds[2] - zone_covered_shape.bounds[0]\n",
    "zone_covered_height = zone_covered_shape.bounds[3] - zone_covered_shape.bounds[1]\n",
    "print(f\"Dimension of the area is {zone_covered_width:.0f} x {zone_covered_height:.0f} m2\")"
   ]
  },
  {
   "cell_type": "code",
   "execution_count": null,
   "id": "5e233500-3542-4d9f-8623-ef49a3727b4f",
   "metadata": {},
   "outputs": [],
   "source": [
    "zone_covered.bounds"
   ]
  },
  {
   "cell_type": "code",
   "execution_count": null,
   "id": "e712c26f-faac-48ff-96e4-831c5326abe8",
   "metadata": {},
   "outputs": [],
   "source": [
    "# Coordinates format\n",
    "zone_covered.crs"
   ]
  },
  {
   "cell_type": "code",
   "execution_count": null,
   "id": "01a12b8e-1c01-4c76-bcd7-644cc1cc2274",
   "metadata": {
    "scrolled": true
   },
   "outputs": [],
   "source": [
    "resolution = 10 # meters per pixel, used for raster dimension and satellite images\n",
    "patch_dim = 255 # number of pixel\n",
    "\n",
    "# Create a splitter to obtain a list of bboxes \n",
    "bbox_splitter = UtmZoneSplitter([zone_covered_shape], local_CRS, patch_dim*resolution)\n",
    "bbox_list = np.array(bbox_splitter.get_bbox_list())\n",
    "info_list = np.array(bbox_splitter.get_info_list())\n",
    "\n",
    "# Prepare info of selected EOPatches\n",
    "geometry = [Polygon(bbox.get_polygon()) for bbox in bbox_list]\n",
    "\n",
    "idxs = [info[\"index\"] for info in info_list]\n",
    "idxs_x = [info[\"index_x\"] for info in info_list]\n",
    "idxs_y = [info[\"index_y\"] for info in info_list]\n",
    "\n",
    "bbox_gdf = gpd.GeoDataFrame({\"index\": idxs, \"index_x\": idxs_x, \"index_y\": idxs_y}, crs=local_CRS, geometry=geometry)\n",
    "\n",
    "# Save to shapefile\n",
    "shapefile_name = \"grid_paysbasque_500x500.gpkg\"\n",
    "bbox_gdf.to_file(os.path.join(RESULTS_FOLDER, shapefile_name), driver=\"GPKG\")"
   ]
  },
  {
   "cell_type": "code",
   "execution_count": null,
   "id": "0df44e9d-bf96-4fa4-baa9-4aa1f7fe78e5",
   "metadata": {},
   "outputs": [],
   "source": [
    "size_surrounding = 1\n",
    "size_of_selected_area = 2*size_surrounding + 1\n",
    "# select a 5x5 area (id of center patch)\n",
    "ID = 27\n",
    "\n",
    "# Obtain surrounding 5x5 patches\n",
    "patch_ids = []\n",
    "for idx, info in enumerate(info_list):\n",
    "    if abs(info[\"index_x\"] - info_list[ID][\"index_x\"]) <= size_surrounding and abs(info[\"index_y\"] - info_list[ID][\"index_y\"]) <= size_surrounding:\n",
    "        patch_ids.append(idx)\n",
    "\n",
    "# Check if final size is 5x5\n",
    "if len(patch_ids) != size_of_selected_area * size_of_selected_area:\n",
    "    print(\"Warning! Use a different central patch ID, this one is on the border.\")\n",
    "\n",
    "# Change the order of the patches (useful for plotting)\n",
    "patch_ids = np.transpose(np.fliplr(np.array(patch_ids).reshape(size_of_selected_area, size_of_selected_area))).ravel()\n",
    "\n",
    "# Save to shapefile\n",
    "shapefile_name = \"grid_paysbasque_500x500.gpkg\"\n",
    "bbox_gdf.to_file(os.path.join(RESULTS_FOLDER, shapefile_name), driver=\"GPKG\")"
   ]
  },
  {
   "cell_type": "code",
   "execution_count": null,
   "id": "a9faf870-07b8-47cb-abdf-e5dd0c5e26c5",
   "metadata": {},
   "outputs": [],
   "source": [
    "# Display bboxes over country\n",
    "\n",
    "fig_size = 10\n",
    "fig, ax = plt.subplots(figsize=(fig_size, fig_size))\n",
    "ax.set_title(f\"Selected {size_of_selected_area}x{size_of_selected_area} tiles from Pays basque\", fontsize=0.2*fig_size)\n",
    "zone_covered.plot(ax=ax, facecolor=\"w\", edgecolor=\"b\", alpha=0.5)\n",
    "bbox_gdf.plot(ax=ax, facecolor=\"w\", edgecolor=\"r\", alpha=0.5)\n",
    "\n",
    "for bbox, info in zip(bbox_list, info_list):\n",
    "    geo = bbox.geometry\n",
    "    ax.text(geo.centroid.x, geo.centroid.y, info[\"index\"], ha=\"center\", va=\"center\")\n",
    "\n",
    "# Mark bboxes of selected area\n",
    "bbox_gdf[bbox_gdf.index.isin(patch_ids)].plot(ax=ax, facecolor=\"g\", edgecolor=\"r\", alpha=0.5)\n",
    "\n",
    "plt.axis(\"off\");"
   ]
  },
  {
   "cell_type": "code",
   "execution_count": null,
   "id": "df1e447d-ecaf-4495-bf7d-20c67b740cd9",
   "metadata": {},
   "outputs": [],
   "source": [
    "add_data = SentinelHubInputTask(\n",
    "    bands_feature=(FeatureType.DATA, \"BANDS\"),\n",
    "    bands=band_names,\n",
    "    resolution=10,\n",
    "    maxcc=0.8,\n",
    "    time_difference=datetime.timedelta(minutes=120),\n",
    "    data_collection=DataCollection.SENTINEL2_L1C,\n",
    "    additional_data=[(FeatureType.MASK, \"dataMask\", \"IS_DATA\"), (FeatureType.MASK, \"CLM\"), (FeatureType.DATA, \"CLP\")],\n",
    "    max_threads=5,\n",
    ")"
   ]
  },
  {
   "cell_type": "markdown",
   "id": "dbf2113d-b220-407d-9381-e04d0645ff47",
   "metadata": {},
   "source": [
    "### EOTasks definition "
   ]
  },
  {
   "cell_type": "code",
   "execution_count": null,
   "id": "50668825-549a-4625-9e19-a11c4a6cd072",
   "metadata": {},
   "outputs": [],
   "source": [
    "class SentinelHubValidDataTask(EOTask):\n",
    "    \"\"\"\n",
    "    Combine Sen2Cor's classification map with `IS_DATA` to define a `VALID_DATA_SH` mask\n",
    "    The SentinelHub's cloud mask is asumed to be found in eopatch.mask['CLM']\n",
    "    \"\"\"\n",
    "\n",
    "    def __init__(self, output_feature):\n",
    "        self.output_feature = output_feature\n",
    "\n",
    "    def execute(self, eopatch):\n",
    "        eopatch[self.output_feature] = eopatch.mask[\"IS_DATA\"].astype(bool) & (~eopatch.mask[\"CLM\"].astype(bool))\n",
    "        return eopatch\n",
    "\n",
    "\n",
    "class AddValidCountTask(EOTask):\n",
    "    \"\"\"\n",
    "    The task counts number of valid observations in time-series and stores the results in the timeless mask.\n",
    "    \"\"\"\n",
    "\n",
    "    def __init__(self, count_what, feature_name):\n",
    "        self.what = count_what\n",
    "        self.name = feature_name\n",
    "\n",
    "    def execute(self, eopatch):\n",
    "        eopatch[FeatureType.MASK_TIMELESS, self.name] = np.count_nonzero(eopatch.mask[self.what], axis=0)\n",
    "        return eopatch"
   ]
  },
  {
   "cell_type": "code",
   "execution_count": null,
   "id": "47298be9-17a0-4e0c-b668-a047cb55e61a",
   "metadata": {},
   "outputs": [],
   "source": [
    "# BAND DATA\n",
    "# Add a request for S2 bands.\n",
    "# Here we also do a simple filter of cloudy scenes (on tile level).\n",
    "# The s2cloudless masks and probabilities are requested via additional data.\n",
    "band_names = [\"B02\", \"B03\", \"B04\", \"B08\", \"B11\", \"B12\"]\n",
    "add_data = SentinelHubInputTask(\n",
    "    bands_feature=(FeatureType.DATA, \"BANDS\"),\n",
    "    bands=band_names,\n",
    "    resolution=10,\n",
    "    maxcc=0.8,\n",
    "    time_difference=datetime.timedelta(minutes=120),\n",
    "    data_collection=DataCollection.SENTINEL2_L1C,\n",
    "    additional_data=[(FeatureType.MASK, \"dataMask\", \"IS_DATA\"), (FeatureType.MASK, \"CLM\"), (FeatureType.DATA, \"CLP\")],\n",
    "    max_threads=5,\n",
    ")\n",
    "\n",
    "\n",
    "# CALCULATING NEW FEATURES\n",
    "# NDVI: (B08 - B04)/(B08 + B04)\n",
    "# NDWI: (B03 - B08)/(B03 + B08)\n",
    "# NDBI: (B11 - B08)/(B11 + B08)\n",
    "ndvi = NormalizedDifferenceIndexTask(\n",
    "    (FeatureType.DATA, \"BANDS\"), (FeatureType.DATA, \"NDVI\"), [band_names.index(\"B08\"), band_names.index(\"B04\")]\n",
    ")\n",
    "ndwi = NormalizedDifferenceIndexTask(\n",
    "    (FeatureType.DATA, \"BANDS\"), (FeatureType.DATA, \"NDWI\"), [band_names.index(\"B03\"), band_names.index(\"B08\")]\n",
    ")\n",
    "ndbi = NormalizedDifferenceIndexTask(\n",
    "    (FeatureType.DATA, \"BANDS\"), (FeatureType.DATA, \"NDBI\"), [band_names.index(\"B11\"), band_names.index(\"B08\")]\n",
    ")\n",
    "\n",
    "\n",
    "# VALIDITY MASK\n",
    "# Validate pixels using SentinelHub's cloud detection mask and region of acquisition\n",
    "add_sh_validmask = SentinelHubValidDataTask((FeatureType.MASK, \"IS_VALID\"))\n",
    "\n",
    "# COUNTING VALID PIXELS\n",
    "# Count the number of valid observations per pixel using valid data mask\n",
    "add_valid_count = AddValidCountTask(\"IS_VALID\", \"VALID_COUNT\")"
   ]
  },
  {
   "cell_type": "code",
   "execution_count": null,
   "id": "b3339c2a-9c59-4175-a9f5-3904ea00e1ea",
   "metadata": {},
   "outputs": [],
   "source": [
    "# SAVING TO OUTPUT (if needed)\n",
    "save = SaveTask(EOPATCH_FOLDER, overwrite_permission=OverwritePermission.OVERWRITE_FEATURES)"
   ]
  },
  {
   "cell_type": "markdown",
   "id": "b6534035-5994-4afd-83f9-d382a7f4bdaa",
   "metadata": {},
   "source": [
    "### Proprocess data"
   ]
  },
  {
   "cell_type": "code",
   "execution_count": null,
   "id": "2991b82f-09be-4a0d-920c-ef02aa8d49ed",
   "metadata": {},
   "outputs": [],
   "source": [
    "paysbasque_geojson_path = os.path.join(DATA_FOLDER, \"rpg-2020-registre-parcellaire-graphique.geojson\")\n",
    "# change coordinates system of input data\n",
    "paysbasque_geojson = gpd.read_file(paysbasque_geojson_path).to_crs('32630')\n",
    "paysbasque_geojson.dropna(subset=['grp_cultu'], inplace=True)"
   ]
  },
  {
   "cell_type": "code",
   "execution_count": null,
   "id": "18aa22e6-686c-45d5-8ba4-987e0bbfbec6",
   "metadata": {
    "scrolled": true
   },
   "outputs": [],
   "source": [
    "# OneHotEncode grp_cultu column in grp_encoded\n",
    "encode_dict = {name: i for i, name in enumerate(paysbasque_geojson['grp_cultu'].unique())}\n",
    "paysbasque_geojson['grp_encoded'] = paysbasque_geojson['grp_cultu'].replace(encode_dict)"
   ]
  },
  {
   "cell_type": "code",
   "execution_count": null,
   "id": "9c985524-f063-4910-a957-70abc92c74c9",
   "metadata": {
    "scrolled": true
   },
   "outputs": [],
   "source": [
    "# Save preprocessed data\n",
    "paysbasque_geopd_path = os.path.join(DATA_FOLDER, \"rpg-2020-modified.geojson\")\n",
    "paysbasque_geojson.to_file(paysbasque_geopd_path)"
   ]
  },
  {
   "cell_type": "code",
   "execution_count": null,
   "id": "358bb7c9-6732-45c5-9972-0a5c71b40127",
   "metadata": {},
   "outputs": [],
   "source": [
    "paysbasque_geojson = gpd.read_file(paysbasque_geopd_path)"
   ]
  },
  {
   "cell_type": "code",
   "execution_count": null,
   "id": "eb9390d7-c692-4145-9eb5-1e824e668ebe",
   "metadata": {},
   "outputs": [],
   "source": [
    "paysbasque_geojson.head()"
   ]
  },
  {
   "cell_type": "markdown",
   "id": "6e76cf56-1402-40d2-91fd-eb8518516301",
   "metadata": {},
   "source": [
    "### Create color map for display"
   ]
  },
  {
   "cell_type": "code",
   "execution_count": null,
   "id": "7c11f11e-b2d5-42f2-a4b5-347c6a5e4c8e",
   "metadata": {},
   "outputs": [],
   "source": [
    "grp_cultu_list = list(paysbasque_geojson['grp_encoded'].unique())\n",
    "cmap = plt.get_cmap('coolwarm', len(grp_cultu_list))\n",
    "grp_cultu_dict = {}\n",
    "for i, cultu in enumerate(grp_cultu_list):\n",
    "    grp_cultu_dict[cultu]={\n",
    "        \"name\": cultu,\n",
    "        \"id\": i,\n",
    "        \"color\": cmap(i)\n",
    "    }\n",
    "\n",
    "pb_norm = BoundaryNorm([x - 0.5 for x in range(len(grp_cultu_dict) + 1)], cmap.N)"
   ]
  },
  {
   "cell_type": "code",
   "execution_count": null,
   "id": "b9c43695-5748-4114-974a-df9406cbc4a3",
   "metadata": {},
   "outputs": [],
   "source": [
    "grp_cultu_list = list(paysbasque_geojson['grp_cultu'].unique())\n",
    "grp_cultu_list = [cultu.replace(\" \", \"_\").replace(\"(\", \"\").replace(\")\", \"\") for cultu in grp_cultu_list if cultu is not None]\n",
    "cmap = plt.get_cmap('viridis', len(grp_cultu_list))\n",
    "\n",
    "RPG_colors_dict ={}    \n",
    "      \n",
    "for i, cultu in enumerate(grp_cultu_list):\n",
    "    RPG_colors_dict[cultu]={\"name\": cultu, \n",
    "                            \"id\": i, \n",
    "                            \"color\": list_colors[i]\n",
    "                           }\n",
    "\n",
    "# Reference colormap things\n",
    "RPG_norm = BoundaryNorm([x - 0.5 for x in range(RPG_colors_dict + 1)], cmap.N)"
   ]
  },
  {
   "cell_type": "markdown",
   "id": "2fbae64c-afce-41f6-8869-3e45c7c09050",
   "metadata": {},
   "source": [
    "### RPG import part of the pipeline/workflow"
   ]
  },
  {
   "cell_type": "code",
   "execution_count": null,
   "id": "a4f10393-ad36-4181-b0c6-743f21eb08d7",
   "metadata": {},
   "outputs": [],
   "source": [
    "vector_feature = FeatureType.VECTOR_TIMELESS, \"PB_REFERENCE\"\n",
    "\n",
    "vector_import_task = VectorImportTask(vector_feature, paysbasque_geopd_path)\n",
    "\n",
    "rasterization_task = VectorToRasterTask(\n",
    "    vector_feature,\n",
    "    (FeatureType.MASK_TIMELESS, \"pb\"),\n",
    "    values_column=\"grp_encoded\",\n",
    "    #raster_shape=(FeatureType.MASK, \"IS_DATA\"),\n",
    "    raster_resolution=10,\n",
    "    raster_dtype=np.uint8,\n",
    ")"
   ]
  },
  {
   "cell_type": "code",
   "execution_count": null,
   "id": "cc94f201-1abb-4916-808b-f770a08c67ad",
   "metadata": {},
   "outputs": [],
   "source": [
    "paysbasque_geojson = os.path.join(DATA_FOLDER, \"rpg-2020-registre-parcellaire-graphique.geojson\")\n",
    "vector_feature = FeatureType.VECTOR_TIMELESS, \"RPG_REFERENCE\"\n",
    "\n",
    "vector_import_task = VectorImportTask(vector_feature, paysbasque_geojson)\n",
    "\n",
    "rasterization_task = VectorToRasterTask(\n",
    "    vector_feature,\n",
    "    (FeatureType.MASK_TIMELESS, \"RPG_colors_dict\"),\n",
    "    values_column=\"grp_cultu\",\n",
    "    #raster_shape=(FeatureType.MASK, \"IS_DATA\"),\n",
    "    raster_resolution=10,\n",
    "    raster_dtype=np.uint8,\n",
    ")\n",
    "# SAVING TO OUTPUT (if needed)\n",
    "save = SaveTask(EOPATCH_FOLDER, overwrite_permission=OverwritePermission.OVERWRITE_FEATURES)"
   ]
  },
  {
   "cell_type": "code",
   "execution_count": null,
   "id": "35be08a3-3e3b-43f0-8f13-e445f8527a5b",
   "metadata": {},
   "outputs": [],
   "source": [
    "# Define the workflow\n",
    "workflow_nodes = linearly_connect_tasks(\n",
    "    vector_import_task, rasterization_task, save\n",
    ")\n",
    "workflow = EOWorkflow(workflow_nodes)\n",
    "\n",
    "# Let's visualize it\n",
    "workflow.dependency_graph()"
   ]
  },
  {
   "cell_type": "code",
   "execution_count": null,
   "id": "acb5f660-b2f0-4feb-8123-f2bfaae0eec3",
   "metadata": {
    "scrolled": true
   },
   "outputs": [],
   "source": [
    "# Define additional parameters of the workflow\n",
    "input_node = workflow_nodes[0]\n",
    "save_node = workflow_nodes[-1]\n",
    "execution_args = []\n",
    "for idx, bbox in enumerate(bbox_list[patch_ids]):\n",
    "    execution_args.append(\n",
    "        {\n",
    "            input_node: {\"bbox\": bbox},\n",
    "            save_node: {\"eopatch_folder\": f\"eopatch_{idx}\"},\n",
    "        }\n",
    "    )\n",
    "\n",
    "# Execute the workflow\n",
    "executor = EOExecutor(workflow, execution_args, save_logs=True)\n",
    "executor.run(workers=4)\n",
    "\n",
    "executor.make_report()"
   ]
  },
  {
   "cell_type": "code",
   "execution_count": null,
   "id": "8c858cce-b776-4da8-a955-c1ab5e066933",
   "metadata": {},
   "outputs": [],
   "source": [
    "fig, axs = plt.subplots(nrows=5, ncols=5, figsize=(20, 25))\n",
    "\n",
    "for i in tqdm(range(len(patch_ids))):\n",
    "    eopatch_path = os.path.join(EOPATCH_FOLDER, f\"eopatch_{i}\")\n",
    "    eopatch = EOPatch.load(eopatch_path, lazy_loading=True)\n",
    "\n",
    "    ax = axs[i // 5][i % 5]\n",
    "    im = ax.imshow(eopatch.mask_timeless[\"RPG_colors_dict\"].squeeze(), cmap=lulc_cmap, norm=lulc_norm)\n",
    "    ax.set_xticks([])\n",
    "    ax.set_yticks([])\n",
    "    ax.set_aspect(\"auto\")\n",
    "    del eopatch\n",
    "\n",
    "fig.subplots_adjust(wspace=0, hspace=0)\n",
    "\n",
    "cb = fig.colorbar(im, ax=axs.ravel().tolist(), orientation=\"horizontal\", pad=0.01, aspect=100)\n",
    "cb.ax.tick_params(labelsize=20)\n",
    "cb.set_ticks([entry.id for entry in LULC])\n",
    "cb.ax.set_xticklabels([entry.name for entry in LULC], rotation=45, fontsize=15)\n",
    "plt.show();"
   ]
  },
  {
   "cell_type": "code",
   "execution_count": null,
   "id": "5c597ef8-d432-43ed-8f4b-616f751ab895",
   "metadata": {},
   "outputs": [],
   "source": []
  },
  {
   "cell_type": "code",
   "execution_count": null,
   "id": "dda1592e-9771-4c18-8920-8c567ebef275",
   "metadata": {},
   "outputs": [],
   "source": [
    "# Define the workflow\n",
    "workflow_nodes = linearly_connect_tasks(\n",
    "   vector_import_task, rasterization_task, save\n",
    " # add_data, ndvi, ndwi, ndbi, add_sh_validmask, add_valid_count, vector_import_task, rasterization_task, save\n",
    "\n",
    ")\n",
    "workflow = EOWorkflow(workflow_nodes)\n",
    "\n",
    "# Let's visualize it\n",
    "workflow.dependency_graph()"
   ]
  },
  {
   "cell_type": "markdown",
   "id": "6a98eaa5-74b9-4c20-8f47-9d9ac4188145",
   "metadata": {},
   "source": [
    "### Launch the workflow"
   ]
  },
  {
   "cell_type": "code",
   "execution_count": null,
   "id": "fe537500-faf5-4336-b0e1-2b992b88ebd6",
   "metadata": {
    "scrolled": true
   },
   "outputs": [],
   "source": [
    "%%time\n",
    "\n",
    "# Time interval for the SH request\n",
    "time_interval = [\"2019-01-01\", \"2019-12-31\"]\n",
    "\n",
    "# Define additional parameters of the workflow\n",
    "input_node = workflow_nodes[0]\n",
    "save_node = workflow_nodes[-1]\n",
    "execution_args = []\n",
    "for idx, bbox in enumerate(bbox_list[patch_ids]):\n",
    "    execution_args.append(\n",
    "        {\n",
    "            input_node: {\"bbox\": bbox},\n",
    "            save_node: {\"eopatch_folder\": f\"eopatch_{idx}\"},\n",
    "        }\n",
    "    )\n",
    "\n",
    "\n",
    "# Execute the workflow\n",
    "executor = EOExecutor(workflow, execution_args, save_logs=True)\n",
    "executor.run(workers=4)\n",
    "\n",
    "executor.make_report()\n",
    "\n",
    "failed_ids = executor.get_failed_executions()\n",
    "if failed_ids:\n",
    "    raise RuntimeError(\n",
    "        f\"Execution failed EOPatches with IDs:\\n{failed_ids}\\n\"\n",
    "        f\"For more info check report at {executor.get_report_path()}\"\n",
    "    )"
   ]
  },
  {
   "cell_type": "code",
   "execution_count": null,
   "id": "256b6912-6ebf-43bf-9697-06a5997f9306",
   "metadata": {},
   "outputs": [],
   "source": [
    "fig, axs = plt.subplots(nrows=3, ncols=3, figsize=(20, 25))\n",
    "\n",
    "for i in tqdm(range(len(patch_ids))):\n",
    "    eopatch_path = os.path.join(EOPATCH_FOLDER, f\"eopatch_{i}\")\n",
    "    eopatch = EOPatch.load(eopatch_path, lazy_loading=True)\n",
    "\n",
    "    ax = axs[i // 3][i % 3]\n",
    "    im = ax.imshow(eopatch.mask_timeless[\"pb\"].squeeze(), cmap=cmap, norm=pb_norm)\n",
    "    ax.set_xticks([])\n",
    "    ax.set_yticks([])\n",
    "    ax.set_aspect(\"auto\")\n",
    "    del eopatch\n",
    "\n",
    "fig.subplots_adjust(wspace=0, hspace=0)\n",
    "\n",
    "cb = fig.colorbar(im, ax=axs.ravel().tolist(), orientation=\"horizontal\", pad=0.01, aspect=100)\n",
    "cb.ax.tick_params(labelsize=20)\n",
    "cb.set_ticks([grp_cultu_dict[key]['id'] for key in grp_cultu_dict.keys()])\n",
    "cb.ax.set_xticklabels([grp_cultu_dict[key]['name'] for key in grp_cultu_dict.keys()], rotation=45, fontsize=15)\n",
    "plt.show();"
   ]
  },
  {
   "cell_type": "code",
   "execution_count": null,
   "id": "75caa50d-5f2d-49dc-9320-39aaba634e9e",
   "metadata": {},
   "outputs": [],
   "source": []
  }
 ],
 "metadata": {
  "kernelspec": {
   "display_name": "Python 3 (ipykernel)",
   "language": "python",
   "name": "python3"
  },
  "language_info": {
   "codemirror_mode": {
    "name": "ipython",
    "version": 3
   },
   "file_extension": ".py",
   "mimetype": "text/x-python",
   "name": "python",
   "nbconvert_exporter": "python",
   "pygments_lexer": "ipython3",
   "version": "3.12.3"
  }
 },
 "nbformat": 4,
 "nbformat_minor": 5
}
