{
 "cells": [
  {
   "cell_type": "markdown",
   "id": "311c80bd-acc0-4986-96d0-a07458bcd0ad",
   "metadata": {},
   "source": [
    "# Quick check of agro datasets exploitability for LeWagon MLProject\n",
    "\n",
    "- availability of features data: parcels, type of soils, type of crop, weather, sequencial etc\n",
    "- availability of target data: production (yearly)\n",
    "- quality of data: nan, length of time series"
   ]
  },
  {
   "cell_type": "markdown",
   "id": "1d0ffda8-b31c-4c99-8a98-c7c724c774cf",
   "metadata": {},
   "source": [
    "**TODO**\n",
    "\n",
    "- list datasets\n",
    "- links between datasets\n",
    "- size of datasets\n",
    "- other datasets?\n",
    "- objectives"
   ]
  },
  {
   "cell_type": "markdown",
   "id": "76426d8f-2e2c-499d-9778-c6b51f8e09f7",
   "metadata": {},
   "source": [
    "## Objectives\n",
    "\n",
    "- predict annual crop production per year and per region/parcel\n",
    "- compare predicted annual production to annual crop consumption per region/parcel\n",
    "- forecast under production and over production\n",
    "- infer transport requirement for satisfying demand\n",
    "- update crop production forecast with weather data\n",
    "- update crop production with satellite images\n",
    "- importations vs exportations\n",
    "\n",
    "## Possible extensions\n",
    "\n",
    "- get market data, market forecast to compute expectable value"
   ]
  },
  {
   "cell_type": "markdown",
   "id": "b9c8d77b-42f6-4ee0-a998-c0f132b9ccfc",
   "metadata": {},
   "source": [
    "<https://agreste.agriculture.gouv.fr/agreste-web/>"
   ]
  },
  {
   "cell_type": "code",
   "execution_count": 1,
   "id": "156347be-a9e0-4ebe-bf56-28441482a4dd",
   "metadata": {},
   "outputs": [],
   "source": [
    "# ML libs\n",
    "import pandas as pd\n",
    "import numpy as np\n",
    "\n",
    "# File manipulation\n",
    "import os\n",
    "from urllib.request import urlopen\n",
    "import json\n",
    "from bs4 import BeautifulSoup\n",
    "import xml.etree.ElementTree as ET\n",
    "\n",
    "# Graphic\n",
    "import matplotlib.pyplot as plt\n",
    "import plotly.express as px\n",
    "\n",
    "# Environment variables\n",
    "datasets_dir = os.environ.get('DATA_DIR_LOCAL')"
   ]
  },
  {
   "cell_type": "code",
   "execution_count": 2,
   "id": "a6489e18-31e4-488d-9965-28261227fce6",
   "metadata": {},
   "outputs": [],
   "source": [
    "datasets_dir"
   ]
  },
  {
   "cell_type": "markdown",
   "id": "885fd12b-bb4d-4a36-9dee-dc483b7d5c88",
   "metadata": {},
   "source": [
    "# Production per culture per department/region data"
   ]
  },
  {
   "cell_type": "code",
   "execution_count": null,
   "id": "59c40018-9b93-4c49-a4d5-4b2436fc1310",
   "metadata": {
    "editable": true,
    "slideshow": {
     "slide_type": ""
    },
    "tags": []
   },
   "outputs": [],
   "source": [
    "file_name = \"cd2023-19_ResultatsDéfinifs-FranceEntiere2021-2022_maj22nov2023.xlsx\"\n",
    "file_path = os.path.join(datasets_dir,file_name)\n",
    "data = pd.read_excel(file_path, sheet_name=None)"
   ]
  },
  {
   "cell_type": "code",
   "execution_count": null,
   "id": "27e96294-1631-4c32-a569-e43550df47a6",
   "metadata": {},
   "outputs": [],
   "source": [
    "def format_ssa_sommaire_df(ssa_excel_dict):\n",
    "    ssa_excel_dict['Sommaire']  = ssa_excel_dict['Sommaire'].dropna(how=\"all\").dropna(axis=1)\n",
    "    ssa_excel_dict['Sommaire'].rename(columns=dict(zip(ssa_excel_dict['Sommaire'].columns, ['Tableaux', 'Onglets'])), inplace=True)\n",
    "    ssa_excel_dict['Sommaire']['Onglets'] = ssa_excel_dict['Sommaire']['Onglets'].str.strip('#')\n",
    "    ssa_excel_dict['Sommaire'].drop(2, inplace=True)\n",
    "    ssa_excel_dict['Sommaire'].set_index(\"Tableaux\", inplace=True)"
   ]
  },
  {
   "cell_type": "code",
   "execution_count": null,
   "id": "48e3e8cc-983f-414c-90ca-ffafbab53bec",
   "metadata": {
    "editable": true,
    "slideshow": {
     "slide_type": ""
    },
    "tags": []
   },
   "outputs": [],
   "source": [
    "ssa2023_dict = data.copy()\n",
    "format_ssa_sommaire_df(ssa2023_dict)"
   ]
  },
  {
   "cell_type": "code",
   "execution_count": null,
   "id": "e3519231-c66c-4798-bbd1-d58a03ee5c7e",
   "metadata": {},
   "outputs": [],
   "source": [
    "COP = ssa2023_dict[ssa2023_dict['Sommaire'].iloc[0]['Onglets']]\n",
    "COP"
   ]
  },
  {
   "cell_type": "code",
   "execution_count": null,
   "id": "f4127d71-aa3a-499e-bb25-7a9bfa49a482",
   "metadata": {},
   "outputs": [],
   "source": [
    "len(COP)"
   ]
  },
  {
   "cell_type": "code",
   "execution_count": null,
   "id": "7066d2db-d1c7-415b-96e2-694e8d0c1c6d",
   "metadata": {},
   "outputs": [],
   "source": [
    "file_name = \"SAA_2010-2023_provisoires_donnees_regionales.xlsx\"\n",
    "file_path = os.path.join(datasets_dir, file_name)\n",
    "SAA_regionales = pd.read_excel(file_path, sheet_name=None)"
   ]
  },
  {
   "cell_type": "code",
   "execution_count": null,
   "id": "d6a9aee0-f403-4856-95bc-b033ea87a4d7",
   "metadata": {},
   "outputs": [],
   "source": [
    "SAA_regionales['COP']"
   ]
  },
  {
   "cell_type": "code",
   "execution_count": null,
   "id": "d23e45c6-8bd9-4971-b9c7-60b871faf2d6",
   "metadata": {},
   "outputs": [],
   "source": [
    "file_name = \"SAA_2010-2023_provisoires_donnees_departementales.xlsx\"\n",
    "file_path = os.path.join(datasets_dir, file_name)\n",
    "SAA_departementales = pd.read_excel(file_path, sheet_name=None)"
   ]
  },
  {
   "cell_type": "code",
   "execution_count": null,
   "id": "7634d8fe-893a-4aa8-b9f3-6b03364f934b",
   "metadata": {},
   "outputs": [],
   "source": [
    "SAA_departementales.keys()"
   ]
  },
  {
   "cell_type": "code",
   "execution_count": null,
   "id": "846a7191-a619-48fb-9bbf-57e15817e098",
   "metadata": {},
   "outputs": [],
   "source": [
    "SAA_departementales['COP'].drop([0,1,2,3]).describe()"
   ]
  },
  {
   "cell_type": "markdown",
   "id": "71b5812a-a6dd-46ce-86db-1fc4dc9be295",
   "metadata": {},
   "source": [
    "# RPG (Registre Parcellaire Graphique)"
   ]
  },
  {
   "cell_type": "code",
   "execution_count": null,
   "id": "3e2466a6-41b6-4ae6-9cef-f8c342def1d8",
   "metadata": {},
   "outputs": [],
   "source": [
    "dir_name = \"RPG/Projet_carto_RPG_2\"\n",
    "dir_path = os.path.join(datasets_dir, dir_name)\n",
    "files_list = os.listdir(dir_path)\n",
    "files_list"
   ]
  },
  {
   "cell_type": "code",
   "execution_count": null,
   "id": "002bdeb1-7f33-4040-b40b-6f3bba4c96cd",
   "metadata": {},
   "outputs": [],
   "source": [
    "xml_file = os.path.join(dir_path, \"Projet_carto_RPG_2-1_FXX.qgs\")\n",
    "\n",
    "with open(xml_file) as fp:\n",
    "    soup = BeautifulSoup(fp,'lxml')"
   ]
  },
  {
   "cell_type": "code",
   "execution_count": null,
   "id": "a9ebf846-2836-4b35-8685-000d722d6f3d",
   "metadata": {},
   "outputs": [],
   "source": [
    "soup.find_all('field')"
   ]
  },
  {
   "cell_type": "markdown",
   "id": "a9f9f1cb-519b-497b-9ae5-f267141e04ec",
   "metadata": {},
   "source": [
    "## Pays basque sample dataset of RPG in json format"
   ]
  },
  {
   "cell_type": "code",
   "execution_count": null,
   "id": "2b5dcaa4-b904-4bcb-b0fd-501d3e12bf41",
   "metadata": {},
   "outputs": [],
   "source": [
    "json_name = \"RPG/rpg-2020-registre-parcellaire-graphique.json\"\n",
    "json_path = os.path.join(datasets_dir, json_name)\n",
    "\n",
    "with open(json_path, \"r\") as file:\n",
    "    js = json.load(file)"
   ]
  },
  {
   "cell_type": "code",
   "execution_count": null,
   "id": "afd2c98d-1f8b-4f45-bc31-788f92913de1",
   "metadata": {
    "scrolled": true
   },
   "outputs": [],
   "source": [
    "js_small = js[:2000]"
   ]
  },
  {
   "cell_type": "code",
   "execution_count": null,
   "id": "f6a78620-fe0d-4b02-b2e1-4c0c69d30ab3",
   "metadata": {},
   "outputs": [],
   "source": [
    "fig, ax = plt.subplots(figsize=(14,14))\n",
    "#plt.xlim(-5.15,9.57)\n",
    "#plt.ylim(41.32,51.10)\n",
    "errors={}\n",
    "for i, parcel in enumerate(js_small):\n",
    "    try:\n",
    "        polygons = parcel['geo_shape']['geometry']['coordinates']\n",
    "        #print(f\"index = {i}\")\n",
    "        for polygon in polygons:\n",
    "            ax.fill(np.array(polygon)[:,0], np.array(polygon)[:,1], label=parcel['code_cultu'])\n",
    "    except TypeError as e:\n",
    "        errors[i]=e\n",
    "print(errors)\n",
    "    #ax.plot(np.array(polygon)[:,:,0][0], np.array(polygon)[:,:,1][0], linewidth=3, color=\"w\")"
   ]
  },
  {
   "cell_type": "code",
   "execution_count": null,
   "id": "ad7fba3f-7f8f-4749-a521-6ab19eaebe4a",
   "metadata": {},
   "outputs": [],
   "source": [
    "polygon = js_small[0]['geo_shape']['geometry']['coordinates'][0]\n",
    "plt.fill(np.array(polygon)[:,0], np.array(polygon)[:,1])\n",
    "#plt.plot(np.array(polygon)[:,:,0][0], np.array(polygon)[:,:,1][0], linewidth=3, color=\"w\")"
   ]
  },
  {
   "cell_type": "markdown",
   "id": "e10f49f5-6ec9-4b67-a2e4-7a2d99438609",
   "metadata": {},
   "source": [
    "## Plotly choropleth maps with json data "
   ]
  },
  {
   "cell_type": "markdown",
   "id": "8e234418-3731-4688-9cc7-cd5d6e82dbb3",
   "metadata": {},
   "source": [
    "&#x26A0; High risk of machine overload when number of polygons is higher than 1000! \n",
    "\n",
    "I lost a notebook this way (was not able to reopen it nor to nbconvert --empty outputs...)"
   ]
  },
  {
   "cell_type": "markdown",
   "id": "39998ba0-77f7-4497-bc2f-d1d64865656b",
   "metadata": {},
   "source": [
    "### Preparing data for choropleth maps "
   ]
  },
  {
   "cell_type": "code",
   "execution_count": null,
   "id": "4208101c-dead-435c-81c9-e9ce21832e6a",
   "metadata": {
    "scrolled": true
   },
   "outputs": [],
   "source": [
    "geo_df = pd.DataFrame(js_small)\n",
    "geo_df.head(2)"
   ]
  },
  {
   "cell_type": "code",
   "execution_count": null,
   "id": "0eff8d62-083f-4510-83f3-144d043d9b03",
   "metadata": {},
   "outputs": [],
   "source": [
    "geo_df['pole_terri'].value_counts()"
   ]
  },
  {
   "cell_type": "code",
   "execution_count": null,
   "id": "b543782c-7a54-4223-be70-5d964ee46654",
   "metadata": {},
   "outputs": [],
   "source": [
    "def add_id_to_feature(feature, anonid):\n",
    "    feature['id']=anonid\n",
    "    return feature"
   ]
  },
  {
   "cell_type": "code",
   "execution_count": null,
   "id": "a043d067-82d9-45c3-be81-7b4e6f021169",
   "metadata": {},
   "outputs": [],
   "source": [
    "geo_df['new_geo_shape'] = geo_df.apply(lambda row: add_id_to_feature(row['geo_shape'],row['anon_id']), axis=1)"
   ]
  },
  {
   "cell_type": "code",
   "execution_count": null,
   "id": "4cf94353-ca22-4862-9786-a82248303655",
   "metadata": {},
   "outputs": [],
   "source": [
    "small_geo_df = geo_df[geo_df['pole_terri']==\"Pays de Bidache\"]"
   ]
  },
  {
   "cell_type": "markdown",
   "id": "e8831ba9-7e29-4d92-843b-83b8ae7365ba",
   "metadata": {},
   "source": [
    "Create dictionnary with features collection, this format is mandatory"
   ]
  },
  {
   "cell_type": "code",
   "execution_count": null,
   "id": "40d85b5c-7cc0-429c-9887-93364aee64b3",
   "metadata": {},
   "outputs": [],
   "source": [
    "geo_dict={'type': 'FeatureCollection',\n",
    "          'features': small_geo_df['new_geo_shape'].to_list()}"
   ]
  },
  {
   "cell_type": "markdown",
   "id": "c1c3fb34-b340-4ed4-b22c-d3b179e725ad",
   "metadata": {},
   "source": [
    "locations must correspond to feature['id']"
   ]
  },
  {
   "cell_type": "code",
   "execution_count": null,
   "id": "e4cb17a1-22d6-4ee9-a8fc-2af290918963",
   "metadata": {},
   "outputs": [],
   "source": [
    "fig = px.choropleth_mapbox(small_geo_df, geojson=geo_dict, locations='anon_id', color='code_cultu',\n",
    "                           color_continuous_scale=\"Viridis\",\n",
    "                           range_color=(0, 12),\n",
    "                           mapbox_style=\"carto-positron\",\n",
    "                           zoom=10, center = {\"lon\": -1.0722637006190943, 'lat': 43.20029146325354},\n",
    "                           opacity=0.5,\n",
    "                           labels={'code_cultu':'type de culture'}\n",
    "                          )\n",
    "fig.update_layout(margin={\"r\":0,\"t\":0,\"l\":0,\"b\":0})\n",
    "fig.show()"
   ]
  },
  {
   "attachments": {
    "72d4e16c-5caa-46f4-8ed6-5c9e2132852b.png": {
     "image/png": "[encoded data removed]"
    }
   },
   "cell_type": "markdown",
   "id": "0fee9ac4-bc6c-446d-a253-09ee4390f2da",
   "metadata": {},
   "source": [
    "#### Example\n",
    "<details><summary>\n",
    "dictionary example\n",
    "</summary>\n",
    "\n",
    "```\n",
    "{'type': 'FeatureCollection',\n",
    " 'features': [{\n",
    "    'type': 'Feature',\n",
    "    'properties': {'GEO_ID': '0500000US01001',\n",
    "        'STATE': '01',\n",
    "        'COUNTY': '001',\n",
    "        'NAME': 'Autauga',\n",
    "        'LSAD': 'County',\n",
    "        'CENSUSAREA': 594.436},\n",
    "    'geometry': {\n",
    "        'type': 'Polygon',\n",
    "        'coordinates': [[[-86.496774, 32.344437],\n",
    "         ...,\n",
    "          [-86.496774, 32.344437]]]},\n",
    "    'id': '01001'},\n",
    "  {'type': 'Feature',\n",
    "   'properties': {'GEO_ID': '0500000US01009',\n",
    "        ...,\n",
    "        'CENSUSAREA': 644.776},\n",
    "   'geometry': {'type': 'Polygon',\n",
    "        'coordinates': [[[-86.577799, 33.765316],\n",
    "          ...,\n",
    "          [-86.577799, 33.765316]]]},\n",
    "   'id': '01009'},\n",
    "    ...\n",
    "}\n",
    "```\n",
    "![image.png](attachment:72d4e16c-5caa-46f4-8ed6-5c9e2132852b.png){width=5, heigth=5}\n",
    "</details>"
   ]
  },
  {
   "cell_type": "code",
   "execution_count": null,
   "id": "ce7e27dd-3a3a-46b8-8c73-06d3fd50c7e3",
   "metadata": {},
   "outputs": [],
   "source": [
    "with urlopen('https://raw.githubusercontent.com/plotly/datasets/master/geojson-counties-fips.json') as response:\n",
    "    counties = json.load(response)\n",
    "df = pd.read_csv(\"https://raw.githubusercontent.com/plotly/datasets/master/fips-unemp-16.csv\",\n",
    "                   dtype={\"fips\": str})\n",
    "fig = px.choropleth_mapbox(df, geojson=counties, locations='fips', color='unemp',\n",
    "                           color_continuous_scale=\"Viridis\",\n",
    "                           range_color=(0, 12),\n",
    "                           mapbox_style=\"carto-positron\",\n",
    "                           zoom=3, center = {\"lat\": 37.0902, \"lon\": -95.7129},\n",
    "                           opacity=0.5,\n",
    "                           labels={'unemp':'unemployment rate'}\n",
    "                          )\n",
    "fig.update_layout(margin={\"r\":0,\"t\":0,\"l\":0,\"b\":0})\n",
    "fig.show()"
   ]
  },
  {
   "cell_type": "code",
   "execution_count": null,
   "id": "f818de7c-4dd3-477d-93de-46fde50f569b",
   "metadata": {},
   "outputs": [],
   "source": [
    "counties\n"
   ]
  },
  {
   "cell_type": "code",
   "execution_count": null,
   "id": "9d94b5da-4bc5-4228-9f1d-912e6212911c",
   "metadata": {},
   "outputs": [],
   "source": []
  }
 ],
 "metadata": {
  "kernelspec": {
   "display_name": "Python 3 (ipykernel)",
   "language": "python",
   "name": "python3"
  },
  "language_info": {
   "codemirror_mode": {
    "name": "ipython",
    "version": 3
   },
   "file_extension": ".py",
   "mimetype": "text/x-python",
   "name": "python",
   "nbconvert_exporter": "python",
   "pygments_lexer": "ipython3",
   "version": "3.12.3"
  }
 },
 "nbformat": 4,
 "nbformat_minor": 5
}
