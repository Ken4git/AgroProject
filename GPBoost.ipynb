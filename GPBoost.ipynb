{
 "cells": [
  {
   "cell_type": "markdown",
   "id": "c39a316f",
   "metadata": {},
   "source": [
    "# Modèle GPBOOST"
   ]
  },
  {
   "cell_type": "markdown",
   "id": "5610a90f",
   "metadata": {},
   "source": [
    "## Définition des variables utilisés dans le modèle\n",
    "\n",
    "Variables de Production\n",
    "Departement : Le département du fichier d'origine des données de production.\\\n",
    "Crops_sub : Sous-catégorie de cultures du fichier d'origine des données de production.\\\n",
    "Crops : Une des 14 catégories de cultures.\\\n",
    "New_Region : Région du fichier d'origine des données de production.\\\n",
    "Old_Region : Les anciennes régions du fichier Météo.\\\n",
    "Year : Année de production.\\\n",
    "Production : Production totale de la culture pour l'année.\\\n",
    "Rendement : Rendement de production, calculé comme la production divisée par la surface.\\\n",
    "Surface : Surface de production de la sous-catégorie de cultures pour le département et l'année sélectionnés.\\\n",
    "region : Région du département.\n",
    "\n",
    "\n",
    "Variables Météo : https://www.historique-meteo.net/\n",
    "\n",
    "1/ temp_moyenne : Température moyenne par région par année.\\\n",
    "2/ temp_max : Température maximale par région par année.\\\n",
    "3 /temp_min : Température minimale par région par année.\\\n",
    "4/ vitesse_vent : Vitesse moyenne du vent par région par année.\\\n",
    "5/ temp_vent : Température moyenne du vent par région par année.\\\n",
    "6 /precip_sum : Somme des précipitations par région par année.\\\n",
    "7/ record_precip : Précipitations maximales enregistrées par région par année.\\\n",
    "8/ humidite_moy : Humidité moyenne par région par année.\\\n",
    "9/ visibilite_moy : Visibilité moyenne par région par année.\\\n",
    "10/ couv_nuageuse_moy : Couverture nuageuse moyenne par région par année.\\\n",
    "11/ jours_chaleur : Nombre de jours plus chauds que la moyenne annuelle par région.\\\n",
    "12/ jours_froid : Nombre de jours plus froids que la moyenne annuelle par région.\\\n",
    "13/ jours_humidite_basse : Nombre de jours plus humides que la moyenne annuelle par région.\\\n",
    "14 /jours_precip_consecutifs : Nombre de jours consécutifs de précipitations supérieures à la moyenne annuelle par région."
   ]
  },
  {
   "cell_type": "code",
   "execution_count": 1,
   "id": "0f2fee68",
   "metadata": {},
   "outputs": [],
   "source": [
    "#!pip install gpboost"
   ]
  },
  {
   "cell_type": "code",
   "execution_count": 10,
   "id": "66318d7f",
   "metadata": {},
   "outputs": [],
   "source": [
    "import pandas as pd\n",
    "import numpy as np\n",
    "from sklearn.model_selection import train_test_split\n",
    "import gpboost as gpb"
   ]
  },
  {
   "cell_type": "markdown",
   "id": "af5bf282",
   "metadata": {},
   "source": [
    "## Charger et Préparer les Données"
   ]
  },
  {
   "cell_type": "code",
   "execution_count": 12,
   "id": "640a0842",
   "metadata": {},
   "outputs": [
    {
     "name": "stdout",
     "output_type": "stream",
     "text": [
      "Colonnes disponibles :  Index(['Departement', 'Crops_sub', 'Crops', 'New_Region', 'Old_Region', 'Year',\n",
      "       'Production', 'Rendement', 'Surface', 'region', 'year', 'temp_moyenne',\n",
      "       'temp_max', 'temp_min', 'vitesse_vent', 'temp_vent', 'precip_sum',\n",
      "       'record_precip', 'humidite_moy', 'visibilite_moy', 'couv_nuageuse_moy',\n",
      "       'jours_chaleur', 'jours_froid', 'jours_humidite_basse',\n",
      "       'jours_precip_consecutifs'],\n",
      "      dtype='object')\n"
     ]
    },
    {
     "ename": "KeyError",
     "evalue": "['Longitude', 'Latitude']",
     "output_type": "error",
     "traceback": [
      "\u001b[0;31m---------------------------------------------------------------------------\u001b[0m",
      "\u001b[0;31mKeyError\u001b[0m                                  Traceback (most recent call last)",
      "Cell \u001b[0;32mIn [12], line 122\u001b[0m\n\u001b[1;32m    119\u001b[0m data \u001b[38;5;241m=\u001b[39m data[\u001b[38;5;241m~\u001b[39mdata[\u001b[38;5;124m'\u001b[39m\u001b[38;5;124mDepartement_Code\u001b[39m\u001b[38;5;124m'\u001b[39m]\u001b[38;5;241m.\u001b[39misin(outre_mer_departments)]\n\u001b[1;32m    121\u001b[0m \u001b[38;5;66;03m# Supprimer les lignes avec des coordonnées GPS manquantes\u001b[39;00m\n\u001b[0;32m--> 122\u001b[0m data \u001b[38;5;241m=\u001b[39m \u001b[43mdata\u001b[49m\u001b[38;5;241;43m.\u001b[39;49m\u001b[43mdropna\u001b[49m\u001b[43m(\u001b[49m\u001b[43msubset\u001b[49m\u001b[38;5;241;43m=\u001b[39;49m\u001b[43m[\u001b[49m\u001b[38;5;124;43m'\u001b[39;49m\u001b[38;5;124;43mLongitude\u001b[39;49m\u001b[38;5;124;43m'\u001b[39;49m\u001b[43m,\u001b[49m\u001b[43m \u001b[49m\u001b[38;5;124;43m'\u001b[39;49m\u001b[38;5;124;43mLatitude\u001b[39;49m\u001b[38;5;124;43m'\u001b[39;49m\u001b[43m]\u001b[49m\u001b[43m)\u001b[49m\n\u001b[1;32m    124\u001b[0m \u001b[38;5;66;03m# Ajouter les coordonnées des départements au DataFrame\u001b[39;00m\n\u001b[1;32m    125\u001b[0m data[\u001b[38;5;124m'\u001b[39m\u001b[38;5;124mLatitude\u001b[39m\u001b[38;5;124m'\u001b[39m] \u001b[38;5;241m=\u001b[39m data[\u001b[38;5;124m'\u001b[39m\u001b[38;5;124mDepartement_Code\u001b[39m\u001b[38;5;124m'\u001b[39m]\u001b[38;5;241m.\u001b[39mmap(\u001b[38;5;28;01mlambda\u001b[39;00m x: departments_gps\u001b[38;5;241m.\u001b[39mget(x, {})\u001b[38;5;241m.\u001b[39mget(\u001b[38;5;124m'\u001b[39m\u001b[38;5;124mlatitude\u001b[39m\u001b[38;5;124m'\u001b[39m, \u001b[38;5;241m0\u001b[39m))\n",
      "File \u001b[0;32m~/.pyenv/versions/3.10.6/envs/lewagon/lib/python3.10/site-packages/pandas/util/_decorators.py:311\u001b[0m, in \u001b[0;36mdeprecate_nonkeyword_arguments.<locals>.decorate.<locals>.wrapper\u001b[0;34m(*args, **kwargs)\u001b[0m\n\u001b[1;32m    305\u001b[0m \u001b[38;5;28;01mif\u001b[39;00m \u001b[38;5;28mlen\u001b[39m(args) \u001b[38;5;241m>\u001b[39m num_allow_args:\n\u001b[1;32m    306\u001b[0m     warnings\u001b[38;5;241m.\u001b[39mwarn(\n\u001b[1;32m    307\u001b[0m         msg\u001b[38;5;241m.\u001b[39mformat(arguments\u001b[38;5;241m=\u001b[39marguments),\n\u001b[1;32m    308\u001b[0m         \u001b[38;5;167;01mFutureWarning\u001b[39;00m,\n\u001b[1;32m    309\u001b[0m         stacklevel\u001b[38;5;241m=\u001b[39mstacklevel,\n\u001b[1;32m    310\u001b[0m     )\n\u001b[0;32m--> 311\u001b[0m \u001b[38;5;28;01mreturn\u001b[39;00m \u001b[43mfunc\u001b[49m\u001b[43m(\u001b[49m\u001b[38;5;241;43m*\u001b[39;49m\u001b[43margs\u001b[49m\u001b[43m,\u001b[49m\u001b[43m \u001b[49m\u001b[38;5;241;43m*\u001b[39;49m\u001b[38;5;241;43m*\u001b[39;49m\u001b[43mkwargs\u001b[49m\u001b[43m)\u001b[49m\n",
      "File \u001b[0;32m~/.pyenv/versions/3.10.6/envs/lewagon/lib/python3.10/site-packages/pandas/core/frame.py:6011\u001b[0m, in \u001b[0;36mDataFrame.dropna\u001b[0;34m(self, axis, how, thresh, subset, inplace)\u001b[0m\n\u001b[1;32m   6009\u001b[0m     check \u001b[38;5;241m=\u001b[39m indices \u001b[38;5;241m==\u001b[39m \u001b[38;5;241m-\u001b[39m\u001b[38;5;241m1\u001b[39m\n\u001b[1;32m   6010\u001b[0m     \u001b[38;5;28;01mif\u001b[39;00m check\u001b[38;5;241m.\u001b[39many():\n\u001b[0;32m-> 6011\u001b[0m         \u001b[38;5;28;01mraise\u001b[39;00m \u001b[38;5;167;01mKeyError\u001b[39;00m(np\u001b[38;5;241m.\u001b[39marray(subset)[check]\u001b[38;5;241m.\u001b[39mtolist())\n\u001b[1;32m   6012\u001b[0m     agg_obj \u001b[38;5;241m=\u001b[39m \u001b[38;5;28mself\u001b[39m\u001b[38;5;241m.\u001b[39mtake(indices, axis\u001b[38;5;241m=\u001b[39magg_axis)\n\u001b[1;32m   6014\u001b[0m \u001b[38;5;28;01mif\u001b[39;00m thresh \u001b[38;5;129;01mis\u001b[39;00m \u001b[38;5;129;01mnot\u001b[39;00m \u001b[38;5;28;01mNone\u001b[39;00m:\n",
      "\u001b[0;31mKeyError\u001b[0m: ['Longitude', 'Latitude']"
     ]
    }
   ],
   "source": [
    "\n",
    "# Charger les données\n",
    "file_path = 'Crops_Data.csv'\n",
    "data = pd.read_csv(file_path, delimiter=',', encoding='utf-8')\n",
    "\n",
    "# Afficher les colonnes disponibles pour vérification\n",
    "print(\"Colonnes disponibles : \", data.columns)\n",
    "\n",
    "# Extraction des informations de département\n",
    "if 'Departement' in data.columns:\n",
    "    data['Departement_Code'] = data['Departement'].str.split(' - ').str[0]\n",
    "    data['Departement_Name'] = data['Departement'].str.split(' - ').str[1]\n",
    "else:\n",
    "    print(\"La colonne 'Departement' est manquante\")\n",
    "\n",
    "# Assurez-vous que les codes des départements sont des chaînes de caractères\n",
    "data['Departement_Code'] = data['Departement_Code'].astype(str).str.zfill(3)\n",
    "\n",
    "# Ajouter les coordonnées des départements\n",
    "departments_gps = {\n",
    "    '001': {'latitude': 46.1333, 'longitude': 5.35},\n",
    "    '002': {'latitude': 49.5, 'longitude': 3.5},\n",
    "    '003': {'latitude': 46.3, 'longitude': 3.0833},\n",
    "    '004': {'latitude': 44.0833, 'longitude': 6.2333},\n",
    "    '005': {'latitude': 44.6667, 'longitude': 6.3333},\n",
    "    '006': {'latitude': 43.9333, 'longitude': 7.1833},\n",
    "    '007': {'latitude': 44.75, 'longitude': 4.5},\n",
    "    '008': {'latitude': 49.75, 'longitude': 4.5833},\n",
    "    '009': {'latitude': 42.9667, 'longitude': 1.6},\n",
    "    '010': {'latitude': 48.3, 'longitude': 4.1667},\n",
    "    '011': {'latitude': 43.0833, 'longitude': 2.4167},\n",
    "    '012': {'latitude': 44.25, 'longitude': 2.55},\n",
    "    '013': {'latitude': 43.5, 'longitude': 5.4167},\n",
    "    '014': {'latitude': 49.1333, 'longitude': -0.25},\n",
    "    '015': {'latitude': 45.0333, 'longitude': 2.55},\n",
    "    '016': {'latitude': 45.6667, 'longitude': 0.3333},\n",
    "    '017': {'latitude': 45.75, 'longitude': -0.75},\n",
    "    '018': {'latitude': 47.0667, 'longitude': 2.4167},\n",
    "    '019': {'latitude': 45.3667, 'longitude': 1.9167},\n",
    "    '02A': {'latitude': 41.6667, 'longitude': 8.9167},\n",
    "    '02B': {'latitude': 42.45, 'longitude': 9.0833},\n",
    "    '021': {'latitude': 47.35, 'longitude': 4.8333},\n",
    "    '022': {'latitude': 48.5, 'longitude': -2.75},\n",
    "    '023': {'latitude': 46.1167, 'longitude': 2.0333},\n",
    "    '024': {'latitude': 45.1833, 'longitude': 0.7167},\n",
    "    '025': {'latitude': 47.25, 'longitude': 6.3333},\n",
    "    '026': {'latitude': 44.6667, 'longitude': 4.8333},\n",
    "    '027': {'latitude': 49.0167, 'longitude': 1.15},\n",
    "    '028': {'latitude': 48.3333, 'longitude': 1.3333},\n",
    "    '029': {'latitude': 48.3333, 'longitude': -4.0833},\n",
    "    '030': {'latitude': 44.0667, 'longitude': 4.3333},\n",
    "    '031': {'latitude': 43.6667, 'longitude': 1.4333},\n",
    "    '032': {'latitude': 43.6667, 'longitude': 0.5833},\n",
    "    '033': {'latitude': 44.8333, 'longitude': -0.5833},\n",
    "    '034': {'latitude': 43.6667, 'longitude': 3.5},\n",
    "    '035': {'latitude': 48.0833, 'longitude': -1.6833},\n",
    "    '036': {'latitude': 46.8833, 'longitude': 1.7},\n",
    "    '037': {'latitude': 47.3333, 'longitude': 0.6667},\n",
    "    '038': {'latitude': 45.25, 'longitude': 5.3333},\n",
    "    '039': {'latitude': 46.75, 'longitude': 5.75},\n",
    "    '040': {'latitude': 44.0, 'longitude': -1.25},\n",
    "    '041': {'latitude': 47.5, 'longitude': 1.3333},\n",
    "    '042': {'latitude': 45.5, 'longitude': 4.25},\n",
    "    '043': {'latitude': 45.0, 'longitude': 3.5},\n",
    "    '044': {'latitude': 47.3333, 'longitude': -1.6667},\n",
    "    '045': {'latitude': 47.9167, 'longitude': 2.0833},\n",
    "    '046': {'latitude': 44.6667, 'longitude': 1.4167},\n",
    "    '047': {'latitude': 44.3833, 'longitude': 0.5},\n",
    "    '048': {'latitude': 44.6667, 'longitude': 3.5},\n",
    "    '049': {'latitude': 47.5, 'longitude': -0.5},\n",
    "    '050': {'latitude': 49.0, 'longitude': -1.3333},\n",
    "    '051': {'latitude': 49.0833, 'longitude': 4.0333},\n",
    "    '052': {'latitude': 48.0, 'longitude': 5.3333},\n",
    "    '053': {'latitude': 48.25, 'longitude': -0.6667},\n",
    "    '054': {'latitude': 48.6667, 'longitude': 6.1667},\n",
    "    '055': {'latitude': 49.0, 'longitude': 5.3833},\n",
    "    '056': {'latitude': 47.75, 'longitude': -2.75},\n",
    "    '057': {'latitude': 49.0, 'longitude': 6.1667},\n",
    "    '058': {'latitude': 47.0, 'longitude': 3.5},\n",
    "    '059': {'latitude': 50.5, 'longitude': 3.0},\n",
    "    '060': {'latitude': 49.3333, 'longitude': 2.5833},\n",
    "    '061': {'latitude': 48.5, 'longitude': 0.1667},\n",
    "    '062': {'latitude': 50.5, 'longitude': 2.5},\n",
    "    '063': {'latitude': 45.75, 'longitude': 3.0833},\n",
    "    '064': {'latitude': 43.3333, 'longitude': -0.75},\n",
    "    '065': {'latitude': 43.0833, 'longitude': 0.0833},\n",
    "    '066': {'latitude': 42.6667, 'longitude': 2.75},\n",
    "    '067': {'latitude': 48.6667, 'longitude': 7.6667},\n",
    "    '068': {'latitude': 47.8333, 'longitude': 7.25},\n",
    "    '069': {'latitude': 45.75, 'longitude': 4.6667},\n",
    "    '070': {'latitude': 47.75, 'longitude': 6.1667},\n",
    "    '071': {'latitude': 46.6667, 'longitude': 4.4167},\n",
    "    '072': {'latitude': 48.0, 'longitude': 0.1667},\n",
    "    '073': {'latitude': 45.5, 'longitude': 6.3333},\n",
    "    '074': {'latitude': 46.0, 'longitude': 6.3333},\n",
    "    '076': {'latitude': 49.922992, 'longitude': 1.077483},\n",
    "    '077': {'latitude': 48.6667, 'longitude': 2.8333},\n",
    "    '078': {'latitude': 48.8333, 'longitude': 1.9667},\n",
    "    '079': {'latitude': 46.6667, 'longitude': -0.3333},\n",
    "    '080': {'latitude': 50.0, 'longitude': 2.3333},\n",
    "    '081': {'latitude': 43.75, 'longitude': 2.1667},\n",
    "    '082': {'latitude': 44.0, 'longitude': 1.3333},\n",
    "    '083': {'latitude': 43.4667, 'longitude': 6.3333},\n",
    "    '084': {'latitude': 44.0, 'longitude': 5.0},\n",
    "    '085': {'latitude': 46.5, 'longitude': -1.6667},\n",
    "    '086': {'latitude': 46.5, 'longitude': 0.3333},\n",
    "    '087': {'latitude': 45.8333, 'longitude': 1.3333},\n",
    "    '088': {'latitude': 48.0833, 'longitude': 6.4167},\n",
    "    '089': {'latitude': 47.8333, 'longitude': 3.5},\n",
    "    '090': {'latitude': 47.75, 'longitude': 6.8333},\n",
    "    '091': {'latitude': 48.6667, 'longitude': 2.25},\n",
    "    '092': {'latitude': 48.8333, 'longitude': 2.25},\n",
    "    '093': {'latitude': 48.9167, 'longitude': 2.4167},\n",
    "    '094': {'latitude': 48.7833, 'longitude': 2.4667},\n",
    "    '095': {'latitude': 49.05, 'longitude': 2.2167}\n",
    "}\n",
    "\n",
    "# Supprimer les départements d'outre-mer\n",
    "outre_mer_departments = ['971', '972', '973', '974', '976']\n",
    "data = data[~data['Departement_Code'].isin(outre_mer_departments)]\n",
    "\n",
    "# Supprimer les lignes avec des coordonnées GPS manquantes\n",
    "data = data.dropna(subset=['Longitude', 'Latitude'])\n",
    "\n",
    "# Ajouter les coordonnées des départements au DataFrame\n",
    "data['Latitude'] = data['Departement_Code'].map(lambda x: departments_gps.get(x, {}).get('latitude', 0))\n",
    "data['Longitude'] = data['Departement_Code'].map(lambda x: departments_gps.get(x, {}).get('longitude', 0))\n",
    "\n",
    "# Afficher les premières lignes pour vérifier\n",
    "print(data.head())\n",
    "\n",
    "# Sauvegarder le DataFrame nettoyé et mis à jour dans un nouveau fichier CSV\n",
    "data.to_csv('Crops_Data_Cleaned.csv', index=False)\n",
    "\n"
   ]
  },
  {
   "cell_type": "markdown",
   "id": "fc803bc3",
   "metadata": {},
   "source": [
    "## Préparer les Données pour l'Entraînement"
   ]
  },
  {
   "cell_type": "code",
   "execution_count": 11,
   "id": "9c47937c",
   "metadata": {},
   "outputs": [
    {
     "ename": "GPBoostError",
     "evalue": "std::bad_alloc",
     "output_type": "error",
     "traceback": [
      "\u001b[0;31m---------------------------------------------------------------------------\u001b[0m",
      "\u001b[0;31mGPBoostError\u001b[0m                              Traceback (most recent call last)",
      "Cell \u001b[0;32mIn [11], line 30\u001b[0m\n\u001b[1;32m     21\u001b[0m params \u001b[38;5;241m=\u001b[39m {\n\u001b[1;32m     22\u001b[0m     \u001b[38;5;124m'\u001b[39m\u001b[38;5;124mobjective\u001b[39m\u001b[38;5;124m'\u001b[39m: \u001b[38;5;124m'\u001b[39m\u001b[38;5;124mregression\u001b[39m\u001b[38;5;124m'\u001b[39m,\n\u001b[1;32m     23\u001b[0m     \u001b[38;5;124m'\u001b[39m\u001b[38;5;124mlearning_rate\u001b[39m\u001b[38;5;124m'\u001b[39m: \u001b[38;5;241m0.1\u001b[39m,\n\u001b[0;32m   (...)\u001b[0m\n\u001b[1;32m     26\u001b[0m     \u001b[38;5;124m'\u001b[39m\u001b[38;5;124mverbose\u001b[39m\u001b[38;5;124m'\u001b[39m: \u001b[38;5;241m0\u001b[39m\n\u001b[1;32m     27\u001b[0m }\n\u001b[1;32m     29\u001b[0m \u001b[38;5;66;03m# Entraîner le modèle GPBoost avec dépendances spatiales\u001b[39;00m\n\u001b[0;32m---> 30\u001b[0m gp_model \u001b[38;5;241m=\u001b[39m \u001b[43mgpb\u001b[49m\u001b[38;5;241;43m.\u001b[39;49m\u001b[43mGPModel\u001b[49m\u001b[43m(\u001b[49m\u001b[43mgp_coords\u001b[49m\u001b[38;5;241;43m=\u001b[39;49m\u001b[43mtrain_data\u001b[49m\u001b[43m[\u001b[49m\u001b[43m[\u001b[49m\u001b[38;5;124;43m'\u001b[39;49m\u001b[38;5;124;43mLongitude\u001b[39;49m\u001b[38;5;124;43m'\u001b[39;49m\u001b[43m,\u001b[49m\u001b[43m \u001b[49m\u001b[38;5;124;43m'\u001b[39;49m\u001b[38;5;124;43mLatitude\u001b[39;49m\u001b[38;5;124;43m'\u001b[39;49m\u001b[43m]\u001b[49m\u001b[43m]\u001b[49m\u001b[38;5;241;43m.\u001b[39;49m\u001b[43mvalues\u001b[49m\u001b[43m,\u001b[49m\u001b[43m \u001b[49m\u001b[43mcov_function\u001b[49m\u001b[38;5;241;43m=\u001b[39;49m\u001b[38;5;124;43m\"\u001b[39;49m\u001b[38;5;124;43mexponential\u001b[39;49m\u001b[38;5;124;43m\"\u001b[39;49m\u001b[43m)\u001b[49m\n\u001b[1;32m     31\u001b[0m bst \u001b[38;5;241m=\u001b[39m gpb\u001b[38;5;241m.\u001b[39mtrain(params\u001b[38;5;241m=\u001b[39mparams, train_set\u001b[38;5;241m=\u001b[39mdata_train, gp_model\u001b[38;5;241m=\u001b[39mgp_model, num_boost_round\u001b[38;5;241m=\u001b[39m\u001b[38;5;241m100\u001b[39m)\n\u001b[1;32m     33\u001b[0m \u001b[38;5;66;03m# Vérifier les résultats\u001b[39;00m\n",
      "File \u001b[0;32m~/.pyenv/versions/3.10.6/envs/lewagon/lib/python3.10/site-packages/gpboost/basic.py:4617\u001b[0m, in \u001b[0;36mGPModel.__init__\u001b[0;34m(self, likelihood, group_data, group_rand_coef_data, ind_effect_group_rand_coef, drop_intercept_group_rand_effect, gp_coords, gp_rand_coef_data, cov_function, cov_fct_shape, gp_approx, cov_fct_taper_range, cov_fct_taper_shape, num_neighbors, vecchia_ordering, ind_points_selection, num_ind_points, cover_tree_radius, matrix_inversion_method, seed, cluster_ids, free_raw_data, model_file, model_dict, vecchia_approx, vecchia_pred_type, num_neighbors_pred)\u001b[0m\n\u001b[1;32m   4613\u001b[0m     cluster_ids_c \u001b[38;5;241m=\u001b[39m cluster_ids\u001b[38;5;241m.\u001b[39mctypes\u001b[38;5;241m.\u001b[39mdata_as(ctypes\u001b[38;5;241m.\u001b[39mPOINTER(ctypes\u001b[38;5;241m.\u001b[39mc_int32))\n\u001b[1;32m   4615\u001b[0m \u001b[38;5;28mself\u001b[39m\u001b[38;5;241m.\u001b[39m__determine_num_cov_pars(likelihood\u001b[38;5;241m=\u001b[39mlikelihood)\n\u001b[0;32m-> 4617\u001b[0m \u001b[43m_safe_call\u001b[49m\u001b[43m(\u001b[49m\u001b[43m_LIB\u001b[49m\u001b[38;5;241;43m.\u001b[39;49m\u001b[43mGPB_CreateREModel\u001b[49m\u001b[43m(\u001b[49m\n\u001b[1;32m   4618\u001b[0m \u001b[43m    \u001b[49m\u001b[43mctypes\u001b[49m\u001b[38;5;241;43m.\u001b[39;49m\u001b[43mc_int\u001b[49m\u001b[43m(\u001b[49m\u001b[38;5;28;43mself\u001b[39;49m\u001b[38;5;241;43m.\u001b[39;49m\u001b[43mnum_data\u001b[49m\u001b[43m)\u001b[49m\u001b[43m,\u001b[49m\n\u001b[1;32m   4619\u001b[0m \u001b[43m    \u001b[49m\u001b[43mcluster_ids_c\u001b[49m\u001b[43m,\u001b[49m\n\u001b[1;32m   4620\u001b[0m \u001b[43m    \u001b[49m\u001b[43mgroup_data_c\u001b[49m\u001b[43m,\u001b[49m\n\u001b[1;32m   4621\u001b[0m \u001b[43m    \u001b[49m\u001b[43mctypes\u001b[49m\u001b[38;5;241;43m.\u001b[39;49m\u001b[43mc_int\u001b[49m\u001b[43m(\u001b[49m\u001b[38;5;28;43mself\u001b[39;49m\u001b[38;5;241;43m.\u001b[39;49m\u001b[43mnum_group_re\u001b[49m\u001b[43m)\u001b[49m\u001b[43m,\u001b[49m\n\u001b[1;32m   4622\u001b[0m \u001b[43m    \u001b[49m\u001b[43mgroup_rand_coef_data_c\u001b[49m\u001b[43m,\u001b[49m\n\u001b[1;32m   4623\u001b[0m \u001b[43m    \u001b[49m\u001b[43mind_effect_group_rand_coef_c\u001b[49m\u001b[43m,\u001b[49m\n\u001b[1;32m   4624\u001b[0m \u001b[43m    \u001b[49m\u001b[43mctypes\u001b[49m\u001b[38;5;241;43m.\u001b[39;49m\u001b[43mc_int\u001b[49m\u001b[43m(\u001b[49m\u001b[38;5;28;43mself\u001b[39;49m\u001b[38;5;241;43m.\u001b[39;49m\u001b[43mnum_group_rand_coef\u001b[49m\u001b[43m)\u001b[49m\u001b[43m,\u001b[49m\n\u001b[1;32m   4625\u001b[0m \u001b[43m    \u001b[49m\u001b[43mdrop_intercept_group_rand_effect_c\u001b[49m\u001b[43m,\u001b[49m\n\u001b[1;32m   4626\u001b[0m \u001b[43m    \u001b[49m\u001b[43mctypes\u001b[49m\u001b[38;5;241;43m.\u001b[39;49m\u001b[43mc_int\u001b[49m\u001b[43m(\u001b[49m\u001b[38;5;28;43mself\u001b[39;49m\u001b[38;5;241;43m.\u001b[39;49m\u001b[43mnum_gp\u001b[49m\u001b[43m)\u001b[49m\u001b[43m,\u001b[49m\n\u001b[1;32m   4627\u001b[0m \u001b[43m    \u001b[49m\u001b[43mgp_coords_c\u001b[49m\u001b[43m,\u001b[49m\n\u001b[1;32m   4628\u001b[0m \u001b[43m    \u001b[49m\u001b[43mctypes\u001b[49m\u001b[38;5;241;43m.\u001b[39;49m\u001b[43mc_int\u001b[49m\u001b[43m(\u001b[49m\u001b[38;5;28;43mself\u001b[39;49m\u001b[38;5;241;43m.\u001b[39;49m\u001b[43mdim_coords\u001b[49m\u001b[43m)\u001b[49m\u001b[43m,\u001b[49m\n\u001b[1;32m   4629\u001b[0m \u001b[43m    \u001b[49m\u001b[43mgp_rand_coef_data_c\u001b[49m\u001b[43m,\u001b[49m\n\u001b[1;32m   4630\u001b[0m \u001b[43m    \u001b[49m\u001b[43mctypes\u001b[49m\u001b[38;5;241;43m.\u001b[39;49m\u001b[43mc_int\u001b[49m\u001b[43m(\u001b[49m\u001b[38;5;28;43mself\u001b[39;49m\u001b[38;5;241;43m.\u001b[39;49m\u001b[43mnum_gp_rand_coef\u001b[49m\u001b[43m)\u001b[49m\u001b[43m,\u001b[49m\n\u001b[1;32m   4631\u001b[0m \u001b[43m    \u001b[49m\u001b[43mc_str\u001b[49m\u001b[43m(\u001b[49m\u001b[38;5;28;43mself\u001b[39;49m\u001b[38;5;241;43m.\u001b[39;49m\u001b[43mcov_function\u001b[49m\u001b[43m)\u001b[49m\u001b[43m,\u001b[49m\n\u001b[1;32m   4632\u001b[0m \u001b[43m    \u001b[49m\u001b[43mctypes\u001b[49m\u001b[38;5;241;43m.\u001b[39;49m\u001b[43mc_double\u001b[49m\u001b[43m(\u001b[49m\u001b[38;5;28;43mself\u001b[39;49m\u001b[38;5;241;43m.\u001b[39;49m\u001b[43mcov_fct_shape\u001b[49m\u001b[43m)\u001b[49m\u001b[43m,\u001b[49m\n\u001b[1;32m   4633\u001b[0m \u001b[43m    \u001b[49m\u001b[43mc_str\u001b[49m\u001b[43m(\u001b[49m\u001b[38;5;28;43mself\u001b[39;49m\u001b[38;5;241;43m.\u001b[39;49m\u001b[43mgp_approx\u001b[49m\u001b[43m)\u001b[49m\u001b[43m,\u001b[49m\n\u001b[1;32m   4634\u001b[0m \u001b[43m    \u001b[49m\u001b[43mctypes\u001b[49m\u001b[38;5;241;43m.\u001b[39;49m\u001b[43mc_double\u001b[49m\u001b[43m(\u001b[49m\u001b[38;5;28;43mself\u001b[39;49m\u001b[38;5;241;43m.\u001b[39;49m\u001b[43mcov_fct_taper_range\u001b[49m\u001b[43m)\u001b[49m\u001b[43m,\u001b[49m\n\u001b[1;32m   4635\u001b[0m \u001b[43m    \u001b[49m\u001b[43mctypes\u001b[49m\u001b[38;5;241;43m.\u001b[39;49m\u001b[43mc_double\u001b[49m\u001b[43m(\u001b[49m\u001b[38;5;28;43mself\u001b[39;49m\u001b[38;5;241;43m.\u001b[39;49m\u001b[43mcov_fct_taper_shape\u001b[49m\u001b[43m)\u001b[49m\u001b[43m,\u001b[49m\n\u001b[1;32m   4636\u001b[0m \u001b[43m    \u001b[49m\u001b[43mctypes\u001b[49m\u001b[38;5;241;43m.\u001b[39;49m\u001b[43mc_int\u001b[49m\u001b[43m(\u001b[49m\u001b[38;5;28;43mself\u001b[39;49m\u001b[38;5;241;43m.\u001b[39;49m\u001b[43mnum_neighbors\u001b[49m\u001b[43m)\u001b[49m\u001b[43m,\u001b[49m\n\u001b[1;32m   4637\u001b[0m \u001b[43m    \u001b[49m\u001b[43mc_str\u001b[49m\u001b[43m(\u001b[49m\u001b[38;5;28;43mself\u001b[39;49m\u001b[38;5;241;43m.\u001b[39;49m\u001b[43mvecchia_ordering\u001b[49m\u001b[43m)\u001b[49m\u001b[43m,\u001b[49m\n\u001b[1;32m   4638\u001b[0m \u001b[43m    \u001b[49m\u001b[43mctypes\u001b[49m\u001b[38;5;241;43m.\u001b[39;49m\u001b[43mc_int\u001b[49m\u001b[43m(\u001b[49m\u001b[38;5;28;43mself\u001b[39;49m\u001b[38;5;241;43m.\u001b[39;49m\u001b[43mnum_ind_points\u001b[49m\u001b[43m)\u001b[49m\u001b[43m,\u001b[49m\n\u001b[1;32m   4639\u001b[0m \u001b[43m    \u001b[49m\u001b[43mctypes\u001b[49m\u001b[38;5;241;43m.\u001b[39;49m\u001b[43mc_double\u001b[49m\u001b[43m(\u001b[49m\u001b[38;5;28;43mself\u001b[39;49m\u001b[38;5;241;43m.\u001b[39;49m\u001b[43mcover_tree_radius\u001b[49m\u001b[43m)\u001b[49m\u001b[43m,\u001b[49m\n\u001b[1;32m   4640\u001b[0m \u001b[43m    \u001b[49m\u001b[43mc_str\u001b[49m\u001b[43m(\u001b[49m\u001b[38;5;28;43mself\u001b[39;49m\u001b[38;5;241;43m.\u001b[39;49m\u001b[43mind_points_selection\u001b[49m\u001b[43m)\u001b[49m\u001b[43m,\u001b[49m\n\u001b[1;32m   4641\u001b[0m \u001b[43m    \u001b[49m\u001b[43mc_str\u001b[49m\u001b[43m(\u001b[49m\u001b[43mlikelihood\u001b[49m\u001b[43m)\u001b[49m\u001b[43m,\u001b[49m\n\u001b[1;32m   4642\u001b[0m \u001b[43m    \u001b[49m\u001b[43mc_str\u001b[49m\u001b[43m(\u001b[49m\u001b[38;5;28;43mself\u001b[39;49m\u001b[38;5;241;43m.\u001b[39;49m\u001b[43mmatrix_inversion_method\u001b[49m\u001b[43m)\u001b[49m\u001b[43m,\u001b[49m\n\u001b[1;32m   4643\u001b[0m \u001b[43m    \u001b[49m\u001b[43mctypes\u001b[49m\u001b[38;5;241;43m.\u001b[39;49m\u001b[43mc_int\u001b[49m\u001b[43m(\u001b[49m\u001b[38;5;28;43mself\u001b[39;49m\u001b[38;5;241;43m.\u001b[39;49m\u001b[43mseed\u001b[49m\u001b[43m)\u001b[49m\u001b[43m,\u001b[49m\n\u001b[1;32m   4644\u001b[0m \u001b[43m    \u001b[49m\u001b[43mctypes\u001b[49m\u001b[38;5;241;43m.\u001b[39;49m\u001b[43mbyref\u001b[49m\u001b[43m(\u001b[49m\u001b[38;5;28;43mself\u001b[39;49m\u001b[38;5;241;43m.\u001b[39;49m\u001b[43mhandle\u001b[49m\u001b[43m)\u001b[49m\u001b[43m)\u001b[49m\u001b[43m)\u001b[49m\n\u001b[1;32m   4646\u001b[0m \u001b[38;5;66;03m# Should we free raw data?\u001b[39;00m\n\u001b[1;32m   4647\u001b[0m \u001b[38;5;28mself\u001b[39m\u001b[38;5;241m.\u001b[39mfree_raw_data \u001b[38;5;241m=\u001b[39m free_raw_data\n",
      "File \u001b[0;32m~/.pyenv/versions/3.10.6/envs/lewagon/lib/python3.10/site-packages/gpboost/basic.py:145\u001b[0m, in \u001b[0;36m_safe_call\u001b[0;34m(ret)\u001b[0m\n\u001b[1;32m    137\u001b[0m \u001b[38;5;124;03m\"\"\"Check the return value from C API call.\u001b[39;00m\n\u001b[1;32m    138\u001b[0m \n\u001b[1;32m    139\u001b[0m \u001b[38;5;124;03mParameters\u001b[39;00m\n\u001b[0;32m   (...)\u001b[0m\n\u001b[1;32m    142\u001b[0m \u001b[38;5;124;03m    The return value from C API calls.\u001b[39;00m\n\u001b[1;32m    143\u001b[0m \u001b[38;5;124;03m\"\"\"\u001b[39;00m\n\u001b[1;32m    144\u001b[0m \u001b[38;5;28;01mif\u001b[39;00m ret \u001b[38;5;241m!=\u001b[39m \u001b[38;5;241m0\u001b[39m:\n\u001b[0;32m--> 145\u001b[0m     \u001b[38;5;28;01mraise\u001b[39;00m GPBoostError(_LIB\u001b[38;5;241m.\u001b[39mLGBM_GetLastError()\u001b[38;5;241m.\u001b[39mdecode(\u001b[38;5;124m'\u001b[39m\u001b[38;5;124mutf-8\u001b[39m\u001b[38;5;124m'\u001b[39m))\n",
      "\u001b[0;31mGPBoostError\u001b[0m: std::bad_alloc"
     ]
    }
   ],
   "source": [
    "# Préparer les données pour le modèle GPBoost\n",
    "features = [\n",
    "    'Longitude', 'Latitude', 'Year', 'temp_moyenne', 'temp_max', 'temp_min',\n",
    "    'vitesse_vent', 'temp_vent', 'precip_sum', 'record_precip', 'humidite_moy',\n",
    "    'visibilite_moy', 'couv_nuageuse_moy', 'jours_chaleur', 'jours_froid',\n",
    "    'jours_humidite_basse', 'jours_precip_consecutifs'\n",
    "]\n",
    "\n",
    "# Séparer les données en ensembles d'entraînement et de test\n",
    "train_data, test_data = train_test_split(data, test_size=0.2, random_state=42)\n",
    "\n",
    "X_train = train_data[features]\n",
    "y_train = train_data['Rendement']\n",
    "X_test = test_data[features]\n",
    "y_test = test_data['Rendement']\n",
    "\n",
    "# Créer l'ensemble de données pour GPBoost\n",
    "data_train = gpb.Dataset(X_train, label=y_train)\n",
    "\n",
    "# Définir les paramètres du modèle GPBoost\n",
    "params = {\n",
    "    'objective': 'regression',\n",
    "    'learning_rate': 0.1,\n",
    "    'max_depth': 6,\n",
    "    'num_leaves': 31,\n",
    "    'verbose': 0\n",
    "}\n",
    "\n",
    "# Vérifier la taille des données pour éviter les problèmes de mémoire\n",
    "print(\"Taille des données d'entraînement :\", X_train.shape)\n",
    "\n",
    "# Entraîner le modèle GPBoost avec dépendances spatiales\n",
    "gp_model = gpb.GPModel(gp_coords=train_data[['Longitude', 'Latitude']].values, cov_function=\"exponential\")\n",
    "bst = gpb.train(params=params, train_set=data_train, gp_model=gp_model, num_boost_round=100)\n",
    "\n",
    "\n",
    "# Vérifier les résultats\n",
    "print(\"Modèle entraîné avec succès\")\n"
   ]
  },
  {
   "cell_type": "code",
   "execution_count": null,
   "id": "2ca4f88d",
   "metadata": {},
   "outputs": [],
   "source": [
    "# Prédictions\n",
    "y_pred_train = bst.predict(data=X_train, gp_coords_pred=train_data[['Longitude', 'Latitude']].values)\n",
    "y_pred_test = bst.predict(data=X_test, gp_coords_pred=test_data[['Longitude', 'Latitude']].values)\n",
    "\n",
    "# Évaluation du modèle\n",
    "from sklearn.metrics import mean_squared_error, r2_score\n",
    "\n",
    "mse_train = mean_squared_error(y_train, y_pred_train)\n",
    "mse_test = mean_squared_error(y_test, y_pred_test)\n",
    "r2_train = r2_score(y_train, y_pred_train)\n",
    "r2_test = r2_score(y_test, y_pred_test)\n",
    "\n",
    "print(f\"MSE train: {mse_train:.4f}, R2 train: {r2_train:.4f}\")\n",
    "print(f\"MSE test: {mse_test:.4f}, R2 test: {r2_test:.4f}\")\n",
    "\n",
    "# Afficher quelques prédictions\n",
    "print(\"Quelques prédictions sur l'ensemble de test :\")\n",
    "print(y_pred_test[:10])"
   ]
  },
  {
   "cell_type": "code",
   "execution_count": 3,
   "id": "be8be92b",
   "metadata": {},
   "outputs": [],
   "source": [
    "from sklearn.model_selection import train_test_split\n",
    "import gpboost as gpb\n",
    "\n",
    "# Séparer les données en ensembles d'entraînement et de test\n",
    "train_data, test_data = train_test_split(data, test_size=0.2, random_state=42)\n",
    "\n",
    "X_train = train_data[['Surface', 'Year']]\n",
    "y_train = train_data['Production']\n",
    "X_test = test_data[['Surface', 'Year']]\n",
    "y_test = test_data['Production']\n",
    "group_train = train_data['Departement_Code'].values\n",
    "group_test = test_data['Departement_Code'].values\n",
    "\n",
    "# Créer l'ensemble de données pour GPBoost\n",
    "data_train = gpb.Dataset(X_train, label=y_train)\n"
   ]
  },
  {
   "cell_type": "markdown",
   "id": "9d648c5d",
   "metadata": {},
   "source": [
    "## Définir et Entraîner le Modèle GPBoost"
   ]
  },
  {
   "cell_type": "code",
   "execution_count": 5,
   "id": "8ceab8b4",
   "metadata": {},
   "outputs": [
    {
     "name": "stdout",
     "output_type": "stream",
     "text": [
      "[GPBoost] [Info] Total Bins 270\n",
      "[GPBoost] [Info] Number of data points in the train set: 3235, number of used features: 2\n",
      "[GPBoost] [Info] [GPBoost with gaussian likelihood]: initscore=345312.646677\n",
      "[GPBoost] [Info] Start training from score 345312.646677\n",
      "Modèle entraîné avec succès\n"
     ]
    }
   ],
   "source": [
    "import pandas as pd\n",
    "import numpy as np\n",
    "import gpboost as gpb\n",
    "from sklearn.model_selection import train_test_split\n",
    "\n",
    "# Séparer les données en ensembles d'entraînement et de test\n",
    "train_data, test_data = train_test_split(data, test_size=0.2, random_state=42)\n",
    "\n",
    "# Utiliser un sous-ensemble des données pour tester\n",
    "subset_train_data = train_data.sample(frac=0.1, random_state=42)  # Utiliser 10% des données pour l'entraînement\n",
    "X_train_subset = subset_train_data[['Surface', 'Year']]\n",
    "y_train_subset = subset_train_data['Production']\n",
    "group_train_subset = subset_train_data['Departement_Code'].values\n",
    "\n",
    "data_train_subset = gpb.Dataset(X_train_subset, label=y_train_subset)\n",
    "\n",
    "# Définir le modèle de processus gaussien pour les effets de groupe et spatiaux\n",
    "gp_model = gpb.GPModel(group_data=group_train_subset, gp_coords=subset_train_data[['Longitude', 'Latitude']].values)\n",
    "\n",
    "# Spécifier les paramètres du modèle de boosting avec des ajustements\n",
    "params = {\n",
    "    'objective': 'regression_l2',\n",
    "    'learning_rate': 0.1,\n",
    "    'max_depth': 6,\n",
    "    'num_leaves': 64,  # Ajuster le nombre de feuilles\n",
    "    'min_data_in_leaf': 5,\n",
    "    'verbose': 1\n",
    "}\n",
    "\n",
    "# Entraîner le modèle avec les nouveaux paramètres\n",
    "num_boost_round = 100\n",
    "bst = gpb.train(params=params, train_set=data_train_subset, gp_model=gp_model, num_boost_round=num_boost_round)\n",
    "\n",
    "# Vérifier les résultats\n",
    "print(\"Modèle entraîné avec succès\")"
   ]
  },
  {
   "cell_type": "markdown",
   "id": "9c90203e",
   "metadata": {},
   "source": [
    "## Faire des Prédictions"
   ]
  },
  {
   "cell_type": "code",
   "execution_count": 8,
   "id": "000819d0",
   "metadata": {},
   "outputs": [],
   "source": [
    "# Définir les ensembles de test\n",
    "X_test = test_data[['Surface', 'Year']]\n",
    "y_test = test_data['Production']\n",
    "group_test = test_data['Departement_Code'].values\n",
    "coords_test = test_data[['Longitude', 'Latitude']].values\n",
    "\n",
    "# Faire des prédictions sur les données de test\n",
    "pred = bst.predict(data=X_test, group_data_pred=group_test, gp_coords_pred=coords_test)\n",
    "y_pred = pred['response_mean']\n"
   ]
  },
  {
   "cell_type": "markdown",
   "id": "692120cd",
   "metadata": {},
   "source": [
    "## Évaluer les Performances du Modèle"
   ]
  },
  {
   "cell_type": "code",
   "execution_count": 9,
   "id": "162e4609",
   "metadata": {},
   "outputs": [
    {
     "name": "stdout",
     "output_type": "stream",
     "text": [
      "Root Mean Squared Error (RMSE): 1217141.535752782\n",
      "Mean Absolute Error (MAE): 527429.7240467238\n",
      "R^2 Score: 0.04920800799792402\n"
     ]
    }
   ],
   "source": [
    "from sklearn.metrics import mean_squared_error, mean_absolute_error, r2_score\n",
    "\n",
    "# Calculer l'erreur quadratique moyenne (RMSE)\n",
    "rmse = np.sqrt(mean_squared_error(y_test, y_pred))\n",
    "print(\"Root Mean Squared Error (RMSE):\", rmse)\n",
    "\n",
    "# Calculer l'erreur absolue moyenne (MAE)\n",
    "mae = mean_absolute_error(y_test, y_pred)\n",
    "print(\"Mean Absolute Error (MAE):\", mae)\n",
    "\n",
    "# Calculer le coefficient de détermination (R^2)\n",
    "r2 = r2_score(y_test, y_pred)\n",
    "print(\"R^2 Score:\", r2)"
   ]
  },
  {
   "cell_type": "code",
   "execution_count": null,
   "id": "9c3d800d",
   "metadata": {},
   "outputs": [],
   "source": []
  }
 ],
 "metadata": {
  "kernelspec": {
   "display_name": "Python 3 (ipykernel)",
   "language": "python",
   "name": "python3"
  },
  "language_info": {
   "codemirror_mode": {
    "name": "ipython",
    "version": 3
   },
   "file_extension": ".py",
   "mimetype": "text/x-python",
   "name": "python",
   "nbconvert_exporter": "python",
   "pygments_lexer": "ipython3",
   "version": "3.10.6"
  },
  "toc": {
   "base_numbering": 1,
   "nav_menu": {},
   "number_sections": true,
   "sideBar": true,
   "skip_h1_title": false,
   "title_cell": "Table of Contents",
   "title_sidebar": "Contents",
   "toc_cell": false,
   "toc_position": {},
   "toc_section_display": true,
   "toc_window_display": false
  }
 },
 "nbformat": 4,
 "nbformat_minor": 5
}
